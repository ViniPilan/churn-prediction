{
 "cells": [
  {
   "cell_type": "code",
   "execution_count": 1,
   "id": "5fedf136",
   "metadata": {},
   "outputs": [],
   "source": [
    "import pandas as pd\n",
    "import pickle\n",
    "import requests"
   ]
  },
  {
   "cell_type": "code",
   "execution_count": 15,
   "id": "1a3411f4",
   "metadata": {},
   "outputs": [],
   "source": [
    "data = pd.read_csv('../Dataset/Churn_Modelling.csv')"
   ]
  },
  {
   "cell_type": "code",
   "execution_count": 3,
   "id": "d201ff01",
   "metadata": {},
   "outputs": [],
   "source": [
    "sample = data.sample()"
   ]
  },
  {
   "cell_type": "code",
   "execution_count": 8,
   "id": "9ac25300",
   "metadata": {},
   "outputs": [
    {
     "data": {
      "text/html": [
       "<div>\n",
       "<style scoped>\n",
       "    .dataframe tbody tr th:only-of-type {\n",
       "        vertical-align: middle;\n",
       "    }\n",
       "\n",
       "    .dataframe tbody tr th {\n",
       "        vertical-align: top;\n",
       "    }\n",
       "\n",
       "    .dataframe thead th {\n",
       "        text-align: right;\n",
       "    }\n",
       "</style>\n",
       "<table border=\"1\" class=\"dataframe\">\n",
       "  <thead>\n",
       "    <tr style=\"text-align: right;\">\n",
       "      <th></th>\n",
       "      <th>RowNumber</th>\n",
       "      <th>CustomerId</th>\n",
       "      <th>Surname</th>\n",
       "      <th>CreditScore</th>\n",
       "      <th>Geography</th>\n",
       "      <th>Gender</th>\n",
       "      <th>Age</th>\n",
       "      <th>Tenure</th>\n",
       "      <th>Balance</th>\n",
       "      <th>NumOfProducts</th>\n",
       "      <th>HasCrCard</th>\n",
       "      <th>IsActiveMember</th>\n",
       "      <th>EstimatedSalary</th>\n",
       "      <th>Exited</th>\n",
       "    </tr>\n",
       "  </thead>\n",
       "  <tbody>\n",
       "    <tr>\n",
       "      <th>9231</th>\n",
       "      <td>9232</td>\n",
       "      <td>15767781</td>\n",
       "      <td>Godfrey</td>\n",
       "      <td>648</td>\n",
       "      <td>France</td>\n",
       "      <td>Male</td>\n",
       "      <td>38</td>\n",
       "      <td>10</td>\n",
       "      <td>82697.28</td>\n",
       "      <td>1</td>\n",
       "      <td>1</td>\n",
       "      <td>0</td>\n",
       "      <td>74846.67</td>\n",
       "      <td>0</td>\n",
       "    </tr>\n",
       "  </tbody>\n",
       "</table>\n",
       "</div>"
      ],
      "text/plain": [
       "      RowNumber  CustomerId  Surname  CreditScore Geography Gender  Age  \\\n",
       "9231       9232    15767781  Godfrey          648    France   Male   38   \n",
       "\n",
       "      Tenure   Balance  NumOfProducts  HasCrCard  IsActiveMember  \\\n",
       "9231      10  82697.28              1          1               0   \n",
       "\n",
       "      EstimatedSalary  Exited  \n",
       "9231         74846.67       0  "
      ]
     },
     "execution_count": 8,
     "metadata": {},
     "output_type": "execute_result"
    }
   ],
   "source": [
    "sample"
   ]
  },
  {
   "cell_type": "code",
   "execution_count": 21,
   "id": "2c0a0ec1",
   "metadata": {},
   "outputs": [
    {
     "name": "stdout",
     "output_type": "stream",
     "text": [
      "200\n"
     ]
    }
   ],
   "source": [
    "url = 'https://vinipilan-churn-model.herokuapp.com/predict'\n",
    "# url = 'http://localhost:5000/predict'\n",
    "\n",
    "sample_json = sample.to_json(orient='records')\n",
    "\n",
    "r = requests.post(url=url, data=sample_json, headers={'Content-type':'application/json'})\n",
    "\n",
    "print(r.status_code)"
   ]
  },
  {
   "cell_type": "code",
   "execution_count": 22,
   "id": "89d3c59a",
   "metadata": {},
   "outputs": [
    {
     "data": {
      "text/plain": [
       "<Response [200]>"
      ]
     },
     "execution_count": 22,
     "metadata": {},
     "output_type": "execute_result"
    }
   ],
   "source": [
    "r"
   ]
  },
  {
   "cell_type": "code",
   "execution_count": 23,
   "id": "fed355cf",
   "metadata": {},
   "outputs": [
    {
     "data": {
      "text/plain": [
       "[{'CreditScore': 0.5706695005,\n",
       "  'Gender_Male': 1,\n",
       "  'Age': 0.4,\n",
       "  'Balance': 0.32960506,\n",
       "  'NumOfProducts': 0.0,\n",
       "  'HasCrCard': 1,\n",
       "  'IsActiveMember': 0,\n",
       "  'EstimatedSalary': 0.3742518722,\n",
       "  'Geography_France': 1,\n",
       "  'Geography_Germany': 0,\n",
       "  'Geography_Spain': 0,\n",
       "  'Surname_freq': 0.1016949153,\n",
       "  'Prediction': 0,\n",
       "  'Prediction_prob': 0.22}]"
      ]
     },
     "execution_count": 23,
     "metadata": {},
     "output_type": "execute_result"
    }
   ],
   "source": [
    "r.json()"
   ]
  }
 ],
 "metadata": {
  "kernelspec": {
   "display_name": "Python 3 (ipykernel)",
   "language": "python",
   "name": "python3"
  },
  "language_info": {
   "codemirror_mode": {
    "name": "ipython",
    "version": 3
   },
   "file_extension": ".py",
   "mimetype": "text/x-python",
   "name": "python",
   "nbconvert_exporter": "python",
   "pygments_lexer": "ipython3",
   "version": "3.9.12"
  }
 },
 "nbformat": 4,
 "nbformat_minor": 5
}
