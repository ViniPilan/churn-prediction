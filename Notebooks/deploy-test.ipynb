{
 "cells": [
  {
   "cell_type": "code",
   "execution_count": 1,
   "id": "5fedf136",
   "metadata": {},
   "outputs": [],
   "source": [
    "import pandas as pd\n",
    "import pickle\n",
    "import requests"
   ]
  },
  {
   "cell_type": "code",
   "execution_count": 2,
   "id": "1a3411f4",
   "metadata": {},
   "outputs": [],
   "source": [
    "data = pd.read_csv('../Dataset/churn-modelling.zip')"
   ]
  },
  {
   "cell_type": "code",
   "execution_count": 3,
   "id": "d201ff01",
   "metadata": {},
   "outputs": [],
   "source": [
    "sample = data.sample()"
   ]
  },
  {
   "cell_type": "code",
   "execution_count": 4,
   "id": "9ac25300",
   "metadata": {},
   "outputs": [
    {
     "data": {
      "text/html": [
       "<div>\n",
       "<style scoped>\n",
       "    .dataframe tbody tr th:only-of-type {\n",
       "        vertical-align: middle;\n",
       "    }\n",
       "\n",
       "    .dataframe tbody tr th {\n",
       "        vertical-align: top;\n",
       "    }\n",
       "\n",
       "    .dataframe thead th {\n",
       "        text-align: right;\n",
       "    }\n",
       "</style>\n",
       "<table border=\"1\" class=\"dataframe\">\n",
       "  <thead>\n",
       "    <tr style=\"text-align: right;\">\n",
       "      <th></th>\n",
       "      <th>RowNumber</th>\n",
       "      <th>CustomerId</th>\n",
       "      <th>Surname</th>\n",
       "      <th>CreditScore</th>\n",
       "      <th>Geography</th>\n",
       "      <th>Gender</th>\n",
       "      <th>Age</th>\n",
       "      <th>Tenure</th>\n",
       "      <th>Balance</th>\n",
       "      <th>NumOfProducts</th>\n",
       "      <th>HasCrCard</th>\n",
       "      <th>IsActiveMember</th>\n",
       "      <th>EstimatedSalary</th>\n",
       "      <th>Exited</th>\n",
       "    </tr>\n",
       "  </thead>\n",
       "  <tbody>\n",
       "    <tr>\n",
       "      <th>5884</th>\n",
       "      <td>5885</td>\n",
       "      <td>15706036</td>\n",
       "      <td>Lombardo</td>\n",
       "      <td>552</td>\n",
       "      <td>Germany</td>\n",
       "      <td>Male</td>\n",
       "      <td>38</td>\n",
       "      <td>10</td>\n",
       "      <td>132271.12</td>\n",
       "      <td>2</td>\n",
       "      <td>1</td>\n",
       "      <td>1</td>\n",
       "      <td>46562.02</td>\n",
       "      <td>0</td>\n",
       "    </tr>\n",
       "  </tbody>\n",
       "</table>\n",
       "</div>"
      ],
      "text/plain": [
       "      RowNumber  CustomerId   Surname  CreditScore Geography Gender  Age  \\\n",
       "5884       5885    15706036  Lombardo          552   Germany   Male   38   \n",
       "\n",
       "      Tenure    Balance  NumOfProducts  HasCrCard  IsActiveMember  \\\n",
       "5884      10  132271.12              2          1               1   \n",
       "\n",
       "      EstimatedSalary  Exited  \n",
       "5884         46562.02       0  "
      ]
     },
     "execution_count": 4,
     "metadata": {},
     "output_type": "execute_result"
    }
   ],
   "source": [
    "sample"
   ]
  },
  {
   "cell_type": "code",
   "execution_count": 5,
   "id": "2c0a0ec1",
   "metadata": {},
   "outputs": [
    {
     "name": "stdout",
     "output_type": "stream",
     "text": [
      "200\n"
     ]
    }
   ],
   "source": [
    "url = 'https://vinipilan-churn-model.herokuapp.com/predict'\n",
    "# url = 'http://localhost:5000/predict'\n",
    "\n",
    "sample_json = sample.to_json(orient='records')\n",
    "\n",
    "r = requests.post(url=url, data=sample_json, headers={'Content-type':'application/json'})\n",
    "\n",
    "print(r.status_code)"
   ]
  },
  {
   "cell_type": "code",
   "execution_count": 6,
   "id": "89d3c59a",
   "metadata": {},
   "outputs": [
    {
     "data": {
      "text/plain": [
       "<Response [200]>"
      ]
     },
     "execution_count": 6,
     "metadata": {},
     "output_type": "execute_result"
    }
   ],
   "source": [
    "r"
   ]
  },
  {
   "cell_type": "code",
   "execution_count": 7,
   "id": "fed355cf",
   "metadata": {},
   "outputs": [
    {
     "data": {
      "text/plain": [
       "[{'CreditScore': 0.3666312434,\n",
       "  'Gender_Male': 1,\n",
       "  'Age': 0.4,\n",
       "  'Balance': 0.5271906215,\n",
       "  'NumOfProducts': 0.4,\n",
       "  'HasCrCard': 1,\n",
       "  'IsActiveMember': 1,\n",
       "  'EstimatedSalary': 0.2327997377,\n",
       "  'Geography_France': 0,\n",
       "  'Geography_Germany': 1,\n",
       "  'Geography_Spain': 0,\n",
       "  'Surname_freq': 0.4745762712,\n",
       "  'Prediction': 0,\n",
       "  'Prediction_prob': 0.25}]"
      ]
     },
     "execution_count": 7,
     "metadata": {},
     "output_type": "execute_result"
    }
   ],
   "source": [
    "r.json()"
   ]
  }
 ],
 "metadata": {
  "kernelspec": {
   "display_name": "Python 3 (ipykernel)",
   "language": "python",
   "name": "python3"
  },
  "language_info": {
   "codemirror_mode": {
    "name": "ipython",
    "version": 3
   },
   "file_extension": ".py",
   "mimetype": "text/x-python",
   "name": "python",
   "nbconvert_exporter": "python",
   "pygments_lexer": "ipython3",
   "version": "3.10.4"
  }
 },
 "nbformat": 4,
 "nbformat_minor": 5
}
