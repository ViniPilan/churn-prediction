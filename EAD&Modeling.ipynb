{
 "cells": [
  {
   "cell_type": "code",
   "execution_count": 1,
   "id": "6dd67025",
   "metadata": {},
   "outputs": [],
   "source": [
    "import numpy as np\n",
    "import pandas as pd\n",
    "\n",
    "import matplotlib.pyplot as plt\n",
    "import seaborn as sns\n",
    "\n",
    "from scipy.stats import shapiro, entropy\n",
    "\n",
    "from sklearn.preprocessing import MinMaxScaler, StandardScaler\n",
    "from sklearn.model_selection import KFold\n",
    "from sklearn.linear_model import LogisticRegression\n",
    "from sklearn.ensemble import RandomForestClassifier\n",
    "from sklearn.metrics import accuracy_score, precision_score, roc_auc_score, confusion_matrix\n",
    "\n",
    "import pickle\n",
    "\n",
    "np.random.seed(7)"
   ]
  },
  {
   "cell_type": "markdown",
   "id": "25e03e68",
   "metadata": {},
   "source": [
    "### Data source\n",
    "\n",
    "The data set was obtained from: https://www.kaggle.com/datasets/shubh0799/churn-modelling"
   ]
  },
  {
   "cell_type": "markdown",
   "id": "6d0242aa",
   "metadata": {},
   "source": [
    "### Data pre processing"
   ]
  },
  {
   "cell_type": "markdown",
   "id": "5a942919",
   "metadata": {},
   "source": [
    "#### Data access"
   ]
  },
  {
   "cell_type": "code",
   "execution_count": 2,
   "id": "ed527e6e",
   "metadata": {
    "scrolled": true
   },
   "outputs": [
    {
     "data": {
      "text/html": [
       "<div>\n",
       "<style scoped>\n",
       "    .dataframe tbody tr th:only-of-type {\n",
       "        vertical-align: middle;\n",
       "    }\n",
       "\n",
       "    .dataframe tbody tr th {\n",
       "        vertical-align: top;\n",
       "    }\n",
       "\n",
       "    .dataframe thead th {\n",
       "        text-align: right;\n",
       "    }\n",
       "</style>\n",
       "<table border=\"1\" class=\"dataframe\">\n",
       "  <thead>\n",
       "    <tr style=\"text-align: right;\">\n",
       "      <th></th>\n",
       "      <th>RowNumber</th>\n",
       "      <th>CustomerId</th>\n",
       "      <th>Surname</th>\n",
       "      <th>CreditScore</th>\n",
       "      <th>Geography</th>\n",
       "      <th>Gender</th>\n",
       "      <th>Age</th>\n",
       "      <th>Tenure</th>\n",
       "      <th>Balance</th>\n",
       "      <th>NumOfProducts</th>\n",
       "      <th>HasCrCard</th>\n",
       "      <th>IsActiveMember</th>\n",
       "      <th>EstimatedSalary</th>\n",
       "      <th>Exited</th>\n",
       "    </tr>\n",
       "  </thead>\n",
       "  <tbody>\n",
       "    <tr>\n",
       "      <th>0</th>\n",
       "      <td>1</td>\n",
       "      <td>15634602</td>\n",
       "      <td>Hargrave</td>\n",
       "      <td>619</td>\n",
       "      <td>France</td>\n",
       "      <td>Female</td>\n",
       "      <td>42</td>\n",
       "      <td>2</td>\n",
       "      <td>0.00</td>\n",
       "      <td>1</td>\n",
       "      <td>1</td>\n",
       "      <td>1</td>\n",
       "      <td>101348.88</td>\n",
       "      <td>1</td>\n",
       "    </tr>\n",
       "    <tr>\n",
       "      <th>1</th>\n",
       "      <td>2</td>\n",
       "      <td>15647311</td>\n",
       "      <td>Hill</td>\n",
       "      <td>608</td>\n",
       "      <td>Spain</td>\n",
       "      <td>Female</td>\n",
       "      <td>41</td>\n",
       "      <td>1</td>\n",
       "      <td>83807.86</td>\n",
       "      <td>1</td>\n",
       "      <td>0</td>\n",
       "      <td>1</td>\n",
       "      <td>112542.58</td>\n",
       "      <td>0</td>\n",
       "    </tr>\n",
       "    <tr>\n",
       "      <th>2</th>\n",
       "      <td>3</td>\n",
       "      <td>15619304</td>\n",
       "      <td>Onio</td>\n",
       "      <td>502</td>\n",
       "      <td>France</td>\n",
       "      <td>Female</td>\n",
       "      <td>42</td>\n",
       "      <td>8</td>\n",
       "      <td>159660.80</td>\n",
       "      <td>3</td>\n",
       "      <td>1</td>\n",
       "      <td>0</td>\n",
       "      <td>113931.57</td>\n",
       "      <td>1</td>\n",
       "    </tr>\n",
       "  </tbody>\n",
       "</table>\n",
       "</div>"
      ],
      "text/plain": [
       "   RowNumber  CustomerId   Surname  CreditScore Geography  Gender  Age  \\\n",
       "0          1    15634602  Hargrave          619    France  Female   42   \n",
       "1          2    15647311      Hill          608     Spain  Female   41   \n",
       "2          3    15619304      Onio          502    France  Female   42   \n",
       "\n",
       "   Tenure    Balance  NumOfProducts  HasCrCard  IsActiveMember  \\\n",
       "0       2       0.00              1          1               1   \n",
       "1       1   83807.86              1          0               1   \n",
       "2       8  159660.80              3          1               0   \n",
       "\n",
       "   EstimatedSalary  Exited  \n",
       "0        101348.88       1  \n",
       "1        112542.58       0  \n",
       "2        113931.57       1  "
      ]
     },
     "execution_count": 2,
     "metadata": {},
     "output_type": "execute_result"
    }
   ],
   "source": [
    "data = pd.read_csv('Dados/Churn_Modelling.csv')\n",
    "data.head(3)"
   ]
  },
  {
   "cell_type": "code",
   "execution_count": 3,
   "id": "bf398929",
   "metadata": {
    "scrolled": true
   },
   "outputs": [],
   "source": [
    "data.drop(columns={'RowNumber', 'CustomerId'}, inplace=True)"
   ]
  },
  {
   "cell_type": "code",
   "execution_count": 4,
   "id": "4bd0db2a",
   "metadata": {
    "scrolled": true
   },
   "outputs": [],
   "source": [
    "quantitative = ['CreditScore',\n",
    "                'Age',\n",
    "                'Tenure',\n",
    "                'Balance',\n",
    "                'NumOfProducts',\n",
    "                'EstimatedSalary']\n",
    "\n",
    "qualitative = []\n",
    "\n",
    "for column in data.columns:\n",
    "    if column not in quantitative:\n",
    "        qualitative.append(column)"
   ]
  },
  {
   "cell_type": "markdown",
   "id": "791b46bc",
   "metadata": {},
   "source": [
    "#### Data balance - undersampling negative cases"
   ]
  },
  {
   "cell_type": "code",
   "execution_count": 5,
   "id": "6de39616",
   "metadata": {},
   "outputs": [],
   "source": [
    "i = data.query('Exited == 0').index\n",
    "i_sampled = np.random.choice(i, data.query('Exited == 1').shape[0])\n",
    "\n",
    "data = pd.concat([data.loc[i_sampled], data.query('Exited == 1')], axis=0).sort_index()"
   ]
  },
  {
   "cell_type": "markdown",
   "id": "200aac9f",
   "metadata": {},
   "source": [
    "#### Data vis - qualitative columns"
   ]
  },
  {
   "cell_type": "code",
   "execution_count": 6,
   "id": "04f600b9",
   "metadata": {},
   "outputs": [
    {
     "data": {
      "text/html": [
       "<div>\n",
       "<style scoped>\n",
       "    .dataframe tbody tr th:only-of-type {\n",
       "        vertical-align: middle;\n",
       "    }\n",
       "\n",
       "    .dataframe tbody tr th {\n",
       "        vertical-align: top;\n",
       "    }\n",
       "\n",
       "    .dataframe thead th {\n",
       "        text-align: right;\n",
       "    }\n",
       "</style>\n",
       "<table border=\"1\" class=\"dataframe\">\n",
       "  <thead>\n",
       "    <tr style=\"text-align: right;\">\n",
       "      <th></th>\n",
       "      <th>Surname</th>\n",
       "    </tr>\n",
       "  </thead>\n",
       "  <tbody>\n",
       "    <tr>\n",
       "      <th>Smith</th>\n",
       "      <td>0.004173</td>\n",
       "    </tr>\n",
       "    <tr>\n",
       "      <th>McGregor</th>\n",
       "      <td>0.003927</td>\n",
       "    </tr>\n",
       "    <tr>\n",
       "      <th>Wright</th>\n",
       "      <td>0.003436</td>\n",
       "    </tr>\n",
       "    <tr>\n",
       "      <th>Chu</th>\n",
       "      <td>0.002946</td>\n",
       "    </tr>\n",
       "    <tr>\n",
       "      <th>Douglas</th>\n",
       "      <td>0.002946</td>\n",
       "    </tr>\n",
       "    <tr>\n",
       "      <th>...</th>\n",
       "      <td>...</td>\n",
       "    </tr>\n",
       "    <tr>\n",
       "      <th>Goodwin</th>\n",
       "      <td>0.000245</td>\n",
       "    </tr>\n",
       "    <tr>\n",
       "      <th>Landry</th>\n",
       "      <td>0.000245</td>\n",
       "    </tr>\n",
       "    <tr>\n",
       "      <th>Chinedum</th>\n",
       "      <td>0.000245</td>\n",
       "    </tr>\n",
       "    <tr>\n",
       "      <th>Cooke</th>\n",
       "      <td>0.000245</td>\n",
       "    </tr>\n",
       "    <tr>\n",
       "      <th>Oguejiofor</th>\n",
       "      <td>0.000245</td>\n",
       "    </tr>\n",
       "  </tbody>\n",
       "</table>\n",
       "<p>1721 rows × 1 columns</p>\n",
       "</div>"
      ],
      "text/plain": [
       "             Surname\n",
       "Smith       0.004173\n",
       "McGregor    0.003927\n",
       "Wright      0.003436\n",
       "Chu         0.002946\n",
       "Douglas     0.002946\n",
       "...              ...\n",
       "Goodwin     0.000245\n",
       "Landry      0.000245\n",
       "Chinedum    0.000245\n",
       "Cooke       0.000245\n",
       "Oguejiofor  0.000245\n",
       "\n",
       "[1721 rows x 1 columns]"
      ]
     },
     "metadata": {},
     "output_type": "display_data"
    },
    {
     "data": {
      "text/html": [
       "<div>\n",
       "<style scoped>\n",
       "    .dataframe tbody tr th:only-of-type {\n",
       "        vertical-align: middle;\n",
       "    }\n",
       "\n",
       "    .dataframe tbody tr th {\n",
       "        vertical-align: top;\n",
       "    }\n",
       "\n",
       "    .dataframe thead th {\n",
       "        text-align: right;\n",
       "    }\n",
       "</style>\n",
       "<table border=\"1\" class=\"dataframe\">\n",
       "  <thead>\n",
       "    <tr style=\"text-align: right;\">\n",
       "      <th></th>\n",
       "      <th>Geography</th>\n",
       "    </tr>\n",
       "  </thead>\n",
       "  <tbody>\n",
       "    <tr>\n",
       "      <th>France</th>\n",
       "      <td>0.463427</td>\n",
       "    </tr>\n",
       "    <tr>\n",
       "      <th>Germany</th>\n",
       "      <td>0.314188</td>\n",
       "    </tr>\n",
       "    <tr>\n",
       "      <th>Spain</th>\n",
       "      <td>0.222386</td>\n",
       "    </tr>\n",
       "  </tbody>\n",
       "</table>\n",
       "</div>"
      ],
      "text/plain": [
       "         Geography\n",
       "France    0.463427\n",
       "Germany   0.314188\n",
       "Spain     0.222386"
      ]
     },
     "metadata": {},
     "output_type": "display_data"
    },
    {
     "data": {
      "text/html": [
       "<div>\n",
       "<style scoped>\n",
       "    .dataframe tbody tr th:only-of-type {\n",
       "        vertical-align: middle;\n",
       "    }\n",
       "\n",
       "    .dataframe tbody tr th {\n",
       "        vertical-align: top;\n",
       "    }\n",
       "\n",
       "    .dataframe thead th {\n",
       "        text-align: right;\n",
       "    }\n",
       "</style>\n",
       "<table border=\"1\" class=\"dataframe\">\n",
       "  <thead>\n",
       "    <tr style=\"text-align: right;\">\n",
       "      <th></th>\n",
       "      <th>Gender</th>\n",
       "    </tr>\n",
       "  </thead>\n",
       "  <tbody>\n",
       "    <tr>\n",
       "      <th>Male</th>\n",
       "      <td>0.502209</td>\n",
       "    </tr>\n",
       "    <tr>\n",
       "      <th>Female</th>\n",
       "      <td>0.497791</td>\n",
       "    </tr>\n",
       "  </tbody>\n",
       "</table>\n",
       "</div>"
      ],
      "text/plain": [
       "          Gender\n",
       "Male    0.502209\n",
       "Female  0.497791"
      ]
     },
     "metadata": {},
     "output_type": "display_data"
    },
    {
     "data": {
      "text/html": [
       "<div>\n",
       "<style scoped>\n",
       "    .dataframe tbody tr th:only-of-type {\n",
       "        vertical-align: middle;\n",
       "    }\n",
       "\n",
       "    .dataframe tbody tr th {\n",
       "        vertical-align: top;\n",
       "    }\n",
       "\n",
       "    .dataframe thead th {\n",
       "        text-align: right;\n",
       "    }\n",
       "</style>\n",
       "<table border=\"1\" class=\"dataframe\">\n",
       "  <thead>\n",
       "    <tr style=\"text-align: right;\">\n",
       "      <th></th>\n",
       "      <th>HasCrCard</th>\n",
       "    </tr>\n",
       "  </thead>\n",
       "  <tbody>\n",
       "    <tr>\n",
       "      <th>1</th>\n",
       "      <td>0.704713</td>\n",
       "    </tr>\n",
       "    <tr>\n",
       "      <th>0</th>\n",
       "      <td>0.295287</td>\n",
       "    </tr>\n",
       "  </tbody>\n",
       "</table>\n",
       "</div>"
      ],
      "text/plain": [
       "   HasCrCard\n",
       "1   0.704713\n",
       "0   0.295287"
      ]
     },
     "metadata": {},
     "output_type": "display_data"
    },
    {
     "data": {
      "text/html": [
       "<div>\n",
       "<style scoped>\n",
       "    .dataframe tbody tr th:only-of-type {\n",
       "        vertical-align: middle;\n",
       "    }\n",
       "\n",
       "    .dataframe tbody tr th {\n",
       "        vertical-align: top;\n",
       "    }\n",
       "\n",
       "    .dataframe thead th {\n",
       "        text-align: right;\n",
       "    }\n",
       "</style>\n",
       "<table border=\"1\" class=\"dataframe\">\n",
       "  <thead>\n",
       "    <tr style=\"text-align: right;\">\n",
       "      <th></th>\n",
       "      <th>IsActiveMember</th>\n",
       "    </tr>\n",
       "  </thead>\n",
       "  <tbody>\n",
       "    <tr>\n",
       "      <th>0</th>\n",
       "      <td>0.543692</td>\n",
       "    </tr>\n",
       "    <tr>\n",
       "      <th>1</th>\n",
       "      <td>0.456308</td>\n",
       "    </tr>\n",
       "  </tbody>\n",
       "</table>\n",
       "</div>"
      ],
      "text/plain": [
       "   IsActiveMember\n",
       "0        0.543692\n",
       "1        0.456308"
      ]
     },
     "metadata": {},
     "output_type": "display_data"
    },
    {
     "data": {
      "text/html": [
       "<div>\n",
       "<style scoped>\n",
       "    .dataframe tbody tr th:only-of-type {\n",
       "        vertical-align: middle;\n",
       "    }\n",
       "\n",
       "    .dataframe tbody tr th {\n",
       "        vertical-align: top;\n",
       "    }\n",
       "\n",
       "    .dataframe thead th {\n",
       "        text-align: right;\n",
       "    }\n",
       "</style>\n",
       "<table border=\"1\" class=\"dataframe\">\n",
       "  <thead>\n",
       "    <tr style=\"text-align: right;\">\n",
       "      <th></th>\n",
       "      <th>Exited</th>\n",
       "    </tr>\n",
       "  </thead>\n",
       "  <tbody>\n",
       "    <tr>\n",
       "      <th>0</th>\n",
       "      <td>0.5</td>\n",
       "    </tr>\n",
       "    <tr>\n",
       "      <th>1</th>\n",
       "      <td>0.5</td>\n",
       "    </tr>\n",
       "  </tbody>\n",
       "</table>\n",
       "</div>"
      ],
      "text/plain": [
       "   Exited\n",
       "0     0.5\n",
       "1     0.5"
      ]
     },
     "metadata": {},
     "output_type": "display_data"
    }
   ],
   "source": [
    "for column in data.columns:\n",
    "    if column not in quantitative:\n",
    "        display(data[column].value_counts(normalize=True).to_frame())"
   ]
  },
  {
   "cell_type": "markdown",
   "id": "2c0c69ef",
   "metadata": {},
   "source": [
    "#### Data vis - quantitative columns"
   ]
  },
  {
   "cell_type": "code",
   "execution_count": 7,
   "id": "4e64b971",
   "metadata": {},
   "outputs": [
    {
     "data": {
      "image/png": "[encoded data removed]",
      "text/plain": [
       "<Figure size 864x576 with 6 Axes>"
      ]
     },
     "metadata": {
      "needs_background": "light"
     },
     "output_type": "display_data"
    }
   ],
   "source": [
    "i = j = 0\n",
    "\n",
    "fig, ax = plt.subplots(2, 3, sharey=True, figsize=(12,8))\n",
    "\n",
    "for column in quantitative:\n",
    "    ax[i][j].set_title(column)\n",
    "    data[column].plot(kind='hist', ax=ax[i][j])\n",
    "    j+=1\n",
    "\n",
    "    if j%3==0:\n",
    "        j=0\n",
    "        i+=1"
   ]
  },
  {
   "cell_type": "markdown",
   "id": "7dcc30cf",
   "metadata": {},
   "source": [
    "#### Feature engineering"
   ]
  },
  {
   "cell_type": "code",
   "execution_count": 8,
   "id": "298987db",
   "metadata": {},
   "outputs": [],
   "source": [
    "surnames = data['Surname'].values\n",
    "\n",
    "def func(x):\n",
    "    \"\"\"If a name appears more than one time in the surnames list, return 1, else, return 0\"\"\"\n",
    "    aux = 0\n",
    "    for name in surnames:\n",
    "        if x == name:\n",
    "            aux+=1\n",
    "            \n",
    "        if aux>1:\n",
    "            return 1\n",
    "            \n",
    "    return 0\n",
    "\n",
    "data['has_parents_costumer'] = data['Surname'].apply(func)"
   ]
  },
  {
   "cell_type": "code",
   "execution_count": 9,
   "id": "026f5430",
   "metadata": {},
   "outputs": [],
   "source": [
    "data['Geography_france'] = data['Geography'].apply(lambda x:1 if x == 'France' else 0)\n",
    "data['Geography_germany'] = data['Geography'].apply(lambda x:1 if x == 'Germany' else 0)\n",
    "data['Geography_spain'] = data['Geography'].apply(lambda x:1 if x == 'Spain' else 0)\n",
    "\n",
    "\n",
    "data['Gender_female'] = data['Gender'].apply(lambda x:1 if x == 'Female' else 0)\n",
    "\n",
    "\n",
    "data['Balance_0_10K'] = data['Balance'].apply(lambda x:1 if x<=10000 else 0)\n",
    "data['Balance_10_100K'] = data['Balance'].apply(lambda x:1 if x>10000 and x<=100000 else 0)\n",
    "data['Balance_100_130K'] = data['Balance'].apply(lambda x:1 if x>100000 and x<=130000 else 0)\n",
    "data['Balance_130K_more'] = data['Balance'].apply(lambda x:1 if x>130000 else 0)\n",
    "\n",
    "\n",
    "data = data[['CreditScore', 'Geography_france', 'Geography_germany',\n",
    "             'Geography_spain', 'Gender_female', 'Age', 'Tenure',\n",
    "             'Balance_0_10K', 'Balance_10_100K', 'Balance_100_130K', 'Balance_130K_more',\n",
    "             'NumOfProducts', 'HasCrCard', 'IsActiveMember', \n",
    "             'has_parents_costumer', 'EstimatedSalary', 'Exited']]"
   ]
  },
  {
   "cell_type": "markdown",
   "id": "3d2dd944",
   "metadata": {},
   "source": [
    "#### Outliers"
   ]
  },
  {
   "cell_type": "code",
   "execution_count": 10,
   "id": "e0673722",
   "metadata": {},
   "outputs": [
    {
     "data": {
      "image/png": "[encoded data removed]",
      "text/plain": [
       "<Figure size 1152x288 with 5 Axes>"
      ]
     },
     "metadata": {
      "needs_background": "light"
     },
     "output_type": "display_data"
    }
   ],
   "source": [
    "i = 0\n",
    "\n",
    "fig, ax = plt.subplots(1, 5, figsize=(16,4))\n",
    "\n",
    "\n",
    "for column in ['CreditScore', 'Age', 'Tenure', 'NumOfProducts', 'EstimatedSalary']:\n",
    "    data[column].plot(kind='box', ax=ax[i])\n",
    "    i+=1"
   ]
  },
  {
   "cell_type": "code",
   "execution_count": 11,
   "id": "446b3ddf",
   "metadata": {},
   "outputs": [
    {
     "data": {
      "text/plain": [
       "0.14999492361041492"
      ]
     },
     "execution_count": 11,
     "metadata": {},
     "output_type": "execute_result"
    }
   ],
   "source": [
    "p1 = data.query('NumOfProducts == 3 or NumOfProducts == 4')['Exited'].sum() / data.query('NumOfProducts == 3 or NumOfProducts == 4')['Exited'].shape[0]\n",
    "p2 = 1 - p1\n",
    "\n",
    "entropy(pk=[p1, p2])"
   ]
  },
  {
   "cell_type": "markdown",
   "id": "b8176115",
   "metadata": {},
   "source": [
    "Entropia juntando NumOfProducts == 3 e NumOfProducts == 4 manteve-se baixa"
   ]
  },
  {
   "cell_type": "code",
   "execution_count": 12,
   "id": "0baa0193",
   "metadata": {},
   "outputs": [],
   "source": [
    "data['NumOfProducts'] = data['NumOfProducts'].apply(lambda x:3 if x == 4 else x)"
   ]
  },
  {
   "cell_type": "code",
   "execution_count": 13,
   "id": "7a0f17e7",
   "metadata": {},
   "outputs": [],
   "source": [
    "floor = data['Age'].quantile(0.05)\n",
    "roof = data['Age'].quantile(0.95)\n",
    "\n",
    "data['Age'] = data['Age'].apply(lambda x:floor if x < floor else x)\n",
    "data['Age'] = data['Age'].apply(lambda x:roof if x > roof else x)"
   ]
  },
  {
   "cell_type": "code",
   "execution_count": 14,
   "id": "fc9f5364",
   "metadata": {},
   "outputs": [],
   "source": [
    "median = data['CreditScore'].median()\n",
    "\n",
    "q1 = data['CreditScore'].quantile(0.25)\n",
    "q3 = data['CreditScore'].quantile(0.75)\n",
    "\n",
    "IQR = q3-q1\n",
    "\n",
    "# Outlier detection using IQR\n",
    "data['CreditScore'] = data['CreditScore'].apply(lambda x:median if x < q1-1.2*IQR else x)\n",
    "data['CreditScore'] = data['CreditScore'].apply(lambda x:median if x > q3+1.2*IQR else x)"
   ]
  },
  {
   "cell_type": "code",
   "execution_count": 15,
   "id": "2cc177d1",
   "metadata": {},
   "outputs": [
    {
     "data": {
      "image/png": "[encoded data removed]",
      "text/plain": [
       "<Figure size 1440x288 with 5 Axes>"
      ]
     },
     "metadata": {
      "needs_background": "light"
     },
     "output_type": "display_data"
    }
   ],
   "source": [
    "i = 0\n",
    "\n",
    "fig, ax = plt.subplots(1, 5, figsize=(20,4), sharey=True)\n",
    "\n",
    "\n",
    "for column in ['CreditScore', 'Age', 'Tenure', 'NumOfProducts', 'EstimatedSalary']:\n",
    "    ax[i].set_title(column, y=1.05)\n",
    "    data[column].plot(kind='hist', ax=ax[i])\n",
    "    i+=1"
   ]
  },
  {
   "cell_type": "markdown",
   "id": "b6230ea9",
   "metadata": {},
   "source": [
    "### Data processing"
   ]
  },
  {
   "cell_type": "markdown",
   "id": "024b0021",
   "metadata": {},
   "source": [
    "#### Gaussian Distribution analysis"
   ]
  },
  {
   "cell_type": "code",
   "execution_count": 16,
   "id": "b66e138d",
   "metadata": {},
   "outputs": [
    {
     "name": "stdout",
     "output_type": "stream",
     "text": [
      "CreditScore is NOT Gaussian (p < 0.05): 1.7323284056151508e-14\n",
      "Age is NOT Gaussian (p < 0.05): 2.0419496205086632e-32\n",
      "Tenure is NOT Gaussian (p < 0.05): 6.7868756246752e-36\n",
      "NumOfProducts is NOT Gaussian (p < 0.05): 0.0\n",
      "EstimatedSalary is NOT Gaussian (p < 0.05): 3.2505189936332817e-34\n"
     ]
    }
   ],
   "source": [
    "for column in ['CreditScore', 'Age', 'Tenure', 'NumOfProducts', 'EstimatedSalary']:\n",
    "    p = shapiro(data[column])[1]\n",
    "    if p > 0.05:\n",
    "        print(f'{column} is Gaussian (p > 0.05): {p}')\n",
    "    else:\n",
    "        print(f'{column} is NOT Gaussian (p < 0.05): {p}')"
   ]
  },
  {
   "cell_type": "markdown",
   "id": "101c3077",
   "metadata": {},
   "source": [
    "#### Data normalization\n",
    "\n",
    "How the quantitative features haven't a gaussian distribution, this data will be normalized (with Min Max normalization) "
   ]
  },
  {
   "cell_type": "markdown",
   "id": "b848b077",
   "metadata": {},
   "source": [
    "#### Data correlation in reference to the target variable"
   ]
  },
  {
   "cell_type": "code",
   "execution_count": 18,
   "id": "4eaa4dea",
   "metadata": {},
   "outputs": [
    {
     "data": {
      "text/html": [
       "<div>\n",
       "<style scoped>\n",
       "    .dataframe tbody tr th:only-of-type {\n",
       "        vertical-align: middle;\n",
       "    }\n",
       "\n",
       "    .dataframe tbody tr th {\n",
       "        vertical-align: top;\n",
       "    }\n",
       "\n",
       "    .dataframe thead th {\n",
       "        text-align: right;\n",
       "    }\n",
       "</style>\n",
       "<table border=\"1\" class=\"dataframe\">\n",
       "  <thead>\n",
       "    <tr style=\"text-align: right;\">\n",
       "      <th></th>\n",
       "      <th>Exited</th>\n",
       "    </tr>\n",
       "  </thead>\n",
       "  <tbody>\n",
       "    <tr>\n",
       "      <th>IsActiveMember</th>\n",
       "      <td>-0.191700</td>\n",
       "    </tr>\n",
       "    <tr>\n",
       "      <th>Balance_0_10K</th>\n",
       "      <td>-0.141019</td>\n",
       "    </tr>\n",
       "    <tr>\n",
       "      <th>Geography_france</th>\n",
       "      <td>-0.131919</td>\n",
       "    </tr>\n",
       "    <tr>\n",
       "      <th>NumOfProducts</th>\n",
       "      <td>-0.075634</td>\n",
       "    </tr>\n",
       "    <tr>\n",
       "      <th>has_parents_costumer</th>\n",
       "      <td>-0.075085</td>\n",
       "    </tr>\n",
       "    <tr>\n",
       "      <th>Geography_spain</th>\n",
       "      <td>-0.047221</td>\n",
       "    </tr>\n",
       "    <tr>\n",
       "      <th>CreditScore</th>\n",
       "      <td>-0.029676</td>\n",
       "    </tr>\n",
       "    <tr>\n",
       "      <th>Balance_10_100K</th>\n",
       "      <td>-0.026816</td>\n",
       "    </tr>\n",
       "    <tr>\n",
       "      <th>HasCrCard</th>\n",
       "      <td>-0.012376</td>\n",
       "    </tr>\n",
       "    <tr>\n",
       "      <th>Tenure</th>\n",
       "      <td>-0.005264</td>\n",
       "    </tr>\n",
       "    <tr>\n",
       "      <th>EstimatedSalary</th>\n",
       "      <td>0.015345</td>\n",
       "    </tr>\n",
       "    <tr>\n",
       "      <th>Balance_130K_more</th>\n",
       "      <td>0.055647</td>\n",
       "    </tr>\n",
       "    <tr>\n",
       "      <th>Balance_100_130K</th>\n",
       "      <td>0.115073</td>\n",
       "    </tr>\n",
       "    <tr>\n",
       "      <th>Gender_female</th>\n",
       "      <td>0.122731</td>\n",
       "    </tr>\n",
       "    <tr>\n",
       "      <th>Geography_germany</th>\n",
       "      <td>0.184018</td>\n",
       "    </tr>\n",
       "    <tr>\n",
       "      <th>Age</th>\n",
       "      <td>0.392341</td>\n",
       "    </tr>\n",
       "  </tbody>\n",
       "</table>\n",
       "</div>"
      ],
      "text/plain": [
       "                        Exited\n",
       "IsActiveMember       -0.191700\n",
       "Balance_0_10K        -0.141019\n",
       "Geography_france     -0.131919\n",
       "NumOfProducts        -0.075634\n",
       "has_parents_costumer -0.075085\n",
       "Geography_spain      -0.047221\n",
       "CreditScore          -0.029676\n",
       "Balance_10_100K      -0.026816\n",
       "HasCrCard            -0.012376\n",
       "Tenure               -0.005264\n",
       "EstimatedSalary       0.015345\n",
       "Balance_130K_more     0.055647\n",
       "Balance_100_130K      0.115073\n",
       "Gender_female         0.122731\n",
       "Geography_germany     0.184018\n",
       "Age                   0.392341"
      ]
     },
     "execution_count": 18,
     "metadata": {},
     "output_type": "execute_result"
    }
   ],
   "source": [
    "data.corr()['Exited'].sort_values().to_frame().drop('Exited', axis=0)"
   ]
  },
  {
   "cell_type": "markdown",
   "id": "a656b648",
   "metadata": {},
   "source": [
    "- **Atividade e evasão são indiretamente proporcionais**: Clientes mais ativos acabam não saindo\n",
    "- **Idade e evasão são diretamente proporcionais:** Clientes mais velhos acabam saindo"
   ]
  },
  {
   "cell_type": "code",
   "execution_count": 19,
   "id": "06401368",
   "metadata": {},
   "outputs": [
    {
     "data": {
      "image/png": "[encoded data removed]",
      "text/plain": [
       "<Figure size 504x216 with 1 Axes>"
      ]
     },
     "metadata": {
      "needs_background": "light"
     },
     "output_type": "display_data"
    }
   ],
   "source": [
    "fig, ax = plt.subplots(figsize=(7, 3))\n",
    "\n",
    "d1 = data.corr()['Exited'].sort_values().to_frame().drop('Exited', axis=0)[0:3].apply(lambda x:np.abs(x))\n",
    "\n",
    "d2 = data.corr()['Exited'].sort_values().to_frame().drop('Exited', axis=0)[13:16]\n",
    "\n",
    "d = pd.concat([d1, d2], axis=0)\n",
    "d['Fator favorece'] = ['permanência', 'permanência', 'permanência', 'saída', 'saída', 'saída']\n",
    "\n",
    "sns.barplot(y=d.index, x=d['Exited'], hue=d['Fator favorece'])\n",
    "\n",
    "ax.set_yticklabels(['Atividade\\nde conta',\n",
    "            'Saldo entre\\n 0 a 10 mil',\n",
    "            'Residência\\nFrancesa',\n",
    "            'Gênero\\nFeminino',\n",
    "            'Residência\\nAlemã',\n",
    "            'Idade'])\n",
    "\n",
    "ax.set_xlabel('')\n",
    "\n",
    "plt.show()"
   ]
  },
  {
   "cell_type": "code",
   "execution_count": 49,
   "id": "b48f1fcb",
   "metadata": {},
   "outputs": [
    {
     "name": "stderr",
     "output_type": "stream",
     "text": [
      "C:\\Users\\vinip\\.conda\\envs\\DataScience\\lib\\site-packages\\ipykernel_launcher.py:15: UserWarning: FixedFormatter should only be used together with FixedLocator\n",
      "  from ipykernel import kernelapp as app\n"
     ]
    },
    {
     "data": {
      "image/png": "[encoded data removed]",
      "text/plain": [
       "<Figure size 432x288 with 1 Axes>"
      ]
     },
     "metadata": {},
     "output_type": "display_data"
    }
   ],
   "source": [
    "sns.set_style('whitegrid')\n",
    "\n",
    "y = [data.query('Gender_female == 0')['Exited'].mean(),\n",
    "     data.query('Gender_female == 1')['Exited'].mean()]\n",
    "\n",
    "x = ['Homens', 'Mulheres']\n",
    "\n",
    "ax = sns.barplot(x=x, y=y, palette='Oranges')\n",
    "\n",
    "ax.text(s='Evasão é maior para clientes do gênero feminino', x=-0.65, y=0.69, weight='bold', fontsize=14)\n",
    "ax.text(s='Comparativo da taxa de evasão calculada para cada gênero', x=-0.65, y=0.65, fontsize=12)\n",
    "#ax.text(s='Idade em anos', x=-0.65, y=0.58, fontsize=10)\n",
    "ax.set_xlabel('')\n",
    "ax.set_xticklabels(x, rotation=0)\n",
    "ax.set_yticklabels(['0%', '10%', '20%', '30%', '40%', '50%'])\n",
    "\n",
    "plt.savefig('Imagens/gen_exited_rate.jpeg', bbox_inches='tight')\n",
    "plt.show()"
   ]
  },
  {
   "cell_type": "code",
   "execution_count": 50,
   "id": "b882ce3f",
   "metadata": {},
   "outputs": [
    {
     "name": "stderr",
     "output_type": "stream",
     "text": [
      "C:\\Users\\vinip\\.conda\\envs\\DataScience\\lib\\site-packages\\ipykernel_launcher.py:14: UserWarning: FixedFormatter should only be used together with FixedLocator\n",
      "  \n"
     ]
    },
    {
     "data": {
      "image/png": "[encoded data removed]",
      "text/plain": [
       "<Figure size 432x288 with 1 Axes>"
      ]
     },
     "metadata": {},
     "output_type": "display_data"
    }
   ],
   "source": [
    "sns.set_style('whitegrid')\n",
    "\n",
    "y = [data.query('Exited == 1')['Age'].mean(),\n",
    "     data.query('Exited == 0')['Age'].mean()]\n",
    "\n",
    "x = ['Clientes que deixaram a empresa', 'Clientes que não deixaram']\n",
    "\n",
    "ax = sns.barplot(x=x, y=y, palette='Blues_r')\n",
    "\n",
    "ax.text(s='Clientes que abandonam a empresa em geral são mais velhos', x=-0.65, y=0.70, weight='bold', fontsize=14)\n",
    "ax.text(s='Comparativo da idade média de clientes que deixaram ou não da empresa', x=-0.65, y=0.65, fontsize=12)\n",
    "ax.set_xlabel('')\n",
    "ax.set_xticklabels(x, rotation=0)\n",
    "ax.set_yticklabels(['0 anos', '10 anos', '20 anos', '30 anos', '40 anos', '50 anos'])\n",
    "\n",
    "plt.savefig('Imagens/age_custumers.jpeg', bbox_inches='tight')\n",
    "plt.show()"
   ]
  },
  {
   "cell_type": "markdown",
   "id": "74513e94",
   "metadata": {},
   "source": [
    "#### Data split"
   ]
  },
  {
   "cell_type": "code",
   "execution_count": 22,
   "id": "c9f8d1de",
   "metadata": {},
   "outputs": [],
   "source": [
    "X = data.drop('Exited', axis=1)\n",
    "y = data['Exited']"
   ]
  },
  {
   "cell_type": "markdown",
   "id": "5e7605c2",
   "metadata": {},
   "source": [
    "#### Modeling and evaluation"
   ]
  },
  {
   "cell_type": "code",
   "execution_count": 23,
   "id": "b80ca0ed",
   "metadata": {},
   "outputs": [
    {
     "name": "stdout",
     "output_type": "stream",
     "text": [
      "Accuracy (train set): 71.49% +- 0.33%\n",
      "Accuracy (test set): 71.28% +- 1.68%\n",
      "\n",
      "Roc area under curve (test set): 0.7798 +- 0.0186\n"
     ]
    }
   ],
   "source": [
    "model = LogisticRegression(random_state=7)\n",
    "kf = KFold(n_splits=6, shuffle=True, random_state=7)\n",
    "\n",
    "accuracies_train = []\n",
    "accuracies_test = []\n",
    "cms = []\n",
    "rocs = []\n",
    "\n",
    "\n",
    "for train_index, test_index in kf.split(X):\n",
    "    X_train, X_test = X.iloc[train_index], X.iloc[test_index]\n",
    "    y_train, y_test = y.iloc[train_index], y.iloc[test_index]\n",
    "    \n",
    "    model.fit(X_train, y_train)\n",
    "\n",
    "    accuracy_train = accuracy_score(y_train, model.predict(X_train))\n",
    "    accuracies_train.append(accuracy_train)\n",
    "    \n",
    "    accuracy_test = accuracy_score(y_test, model.predict(X_test))\n",
    "    accuracies_test.append(accuracy_test)\n",
    "    \n",
    "    roc = roc_auc_score(y_test, model.predict_proba(X_test)[:, 1])\n",
    "    rocs.append(roc)\n",
    "    \n",
    "    \n",
    "accuracies_train = np.array(accuracies_train)    \n",
    "accuracies_test = np.array(accuracies_test)\n",
    "rocs = np.array(rocs)\n",
    "\n",
    "\n",
    "print('Accuracy (train set): %.2f%% +- %.2f%%' % (accuracies_train.mean()*100, accuracies_train.std()*100))\n",
    "print('Accuracy (test set): %.2f%% +- %.2f%%' % (accuracies_test.mean()*100, accuracies_test.std()*100))\n",
    "\n",
    "print('\\nRoc area under curve (test set): %.4f +- %.4f' % (rocs.mean(), rocs.std()))"
   ]
  },
  {
   "cell_type": "code",
   "execution_count": 24,
   "id": "1b6a3029",
   "metadata": {},
   "outputs": [
    {
     "name": "stdout",
     "output_type": "stream",
     "text": [
      "Accuracy (train set): 100.00% +- 0.00%\n",
      "Accuracy (test set): 78.18% +- 1.51%\n",
      "\n",
      "Roc area under curve (test set): 0.8693 +- 0.0186\n"
     ]
    }
   ],
   "source": [
    "model = RandomForestClassifier(random_state=7, n_jobs=-1)\n",
    "kf = KFold(n_splits=6, shuffle=True, random_state=7)\n",
    "\n",
    "accuracies_train = []\n",
    "accuracies_test = []\n",
    "cms = []\n",
    "rocs = []\n",
    "\n",
    "\n",
    "for train_index, test_index in kf.split(X):\n",
    "    X_train, X_test = X.iloc[train_index], X.iloc[test_index]\n",
    "    y_train, y_test = y.iloc[train_index], y.iloc[test_index]\n",
    "    \n",
    "    model.fit(X_train, y_train)\n",
    "\n",
    "    accuracy_train = accuracy_score(y_train, model.predict(X_train))\n",
    "    accuracies_train.append(accuracy_train)\n",
    "    \n",
    "    accuracy_test = accuracy_score(y_test, model.predict(X_test))\n",
    "    accuracies_test.append(accuracy_test)\n",
    "    \n",
    "    roc = roc_auc_score(y_test, model.predict_proba(X_test)[:, 1])\n",
    "    rocs.append(roc)\n",
    "    \n",
    "    \n",
    "accuracies_train = np.array(accuracies_train)    \n",
    "accuracies_test = np.array(accuracies_test)\n",
    "rocs = np.array(rocs)\n",
    "\n",
    "\n",
    "print('Accuracy (train set): %.2f%% +- %.2f%%' % (accuracies_train.mean()*100, accuracies_train.std()*100))\n",
    "print('Accuracy (test set): %.2f%% +- %.2f%%' % (accuracies_test.mean()*100, accuracies_test.std()*100))\n",
    "\n",
    "print('\\nRoc area under curve (test set): %.4f +- %.4f' % (rocs.mean(), rocs.std()))"
   ]
  },
  {
   "cell_type": "markdown",
   "id": "5d5cca21",
   "metadata": {},
   "source": [
    "#### Model dump"
   ]
  },
  {
   "cell_type": "code",
   "execution_count": 25,
   "id": "b755c5c7",
   "metadata": {},
   "outputs": [],
   "source": [
    "model.fit(X, y)\n",
    "\n",
    "file = open('model.pk', 'wb')\n",
    "pickle.dump(model, file)\n",
    "file.close()\n",
    "\n",
    "file = open('minmaxscaler.pk', 'wb')\n",
    "pickle.dump(normalizer, file)\n",
    "file.close()"
   ]
  }
 ],
 "metadata": {
  "kernelspec": {
   "display_name": "Python 3",
   "language": "python",
   "name": "python3"
  },
  "language_info": {
   "codemirror_mode": {
    "name": "ipython",
    "version": 3
   },
   "file_extension": ".py",
   "mimetype": "text/x-python",
   "name": "python",
   "nbconvert_exporter": "python",
   "pygments_lexer": "ipython3",
   "version": "3.7.9"
  }
 },
 "nbformat": 4,
 "nbformat_minor": 5
}
