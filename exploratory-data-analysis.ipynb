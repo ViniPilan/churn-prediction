{
 "cells": [
  {
   "cell_type": "markdown",
   "id": "bcc48878",
   "metadata": {},
   "source": [
    "# Exploraty data analyses"
   ]
  },
  {
   "cell_type": "markdown",
   "id": "25e2a002",
   "metadata": {},
   "source": [
    "Foi desenvolvida uma solução aceitável para o problema abordado. Os passos utilizados durante a construção dessa solução podem ser encontrados logo abaixo:"
   ]
  },
  {
   "cell_type": "markdown",
   "id": "5e2ab89c",
   "metadata": {},
   "source": [
    "### Summary"
   ]
  },
  {
   "cell_type": "markdown",
   "id": "1c28464d",
   "metadata": {},
   "source": [
    "1. [Imports](#Imports)\n",
    "2. [Data pre processing](#Data-pre-processing)\n",
    "    - Accessing the data\n",
    "    - Feature engineering: format correction, feature creation, sample balancement, null values correction\n",
    "    - Outliers\n",
    "    - Distribution analyses\n",
    "    \n",
    "    \n",
    "3. [Data processing](#Data-processing)\n",
    "    - Descriptive statistics analysis for each class (Exited/Not exited)\n",
    "    - Correlation analyses\n",
    "    \n",
    "    \n",
    "4. [Modeling](#Modeling)\n",
    "5. [Evaluation](#Evaluation)\n",
    "    - Model Evaluation about the used data set\n",
    "    - Estimated model evaluation about real world data\n",
    "    \n",
    "    \n",
    "5. [Deploy](#Deploy): just storing the results - the real deploy will be maked in another document"
   ]
  },
  {
   "cell_type": "markdown",
   "id": "a000205c",
   "metadata": {},
   "source": [
    "## Imports"
   ]
  },
  {
   "cell_type": "code",
   "execution_count": 1,
   "id": "d8921157",
   "metadata": {},
   "outputs": [],
   "source": [
    "import pandas as pd\n",
    "import numpy as np\n",
    "import matplotlib.pyplot as plt\n",
    "import seaborn as sns\n",
    "\n",
    "\n",
    "from math import sqrt\n",
    "from scipy.stats import kstest, shapiro \n",
    "from sklearn.preprocessing import StandardScaler, MinMaxScaler\n",
    "from sklearn.model_selection import KFold, train_test_split\n",
    "from sklearn.ensemble import RandomForestClassifier\n",
    "from sklearn.metrics import confusion_matrix, roc_auc_score\n",
    "\n",
    "import pickle"
   ]
  },
  {
   "cell_type": "markdown",
   "id": "4749bf05",
   "metadata": {},
   "source": [
    "## Data pre processing"
   ]
  },
  {
   "cell_type": "markdown",
   "id": "199d0540",
   "metadata": {},
   "source": [
    "### Accessing the data"
   ]
  },
  {
   "cell_type": "code",
   "execution_count": 2,
   "id": "2e092ddc",
   "metadata": {},
   "outputs": [
    {
     "data": {
      "text/html": [
       "<div>\n",
       "<style scoped>\n",
       "    .dataframe tbody tr th:only-of-type {\n",
       "        vertical-align: middle;\n",
       "    }\n",
       "\n",
       "    .dataframe tbody tr th {\n",
       "        vertical-align: top;\n",
       "    }\n",
       "\n",
       "    .dataframe thead th {\n",
       "        text-align: right;\n",
       "    }\n",
       "</style>\n",
       "<table border=\"1\" class=\"dataframe\">\n",
       "  <thead>\n",
       "    <tr style=\"text-align: right;\">\n",
       "      <th></th>\n",
       "      <th>CustomerId</th>\n",
       "      <th>Surname</th>\n",
       "      <th>CreditScore</th>\n",
       "      <th>Geography</th>\n",
       "      <th>Gender</th>\n",
       "      <th>Age</th>\n",
       "      <th>Tenure</th>\n",
       "      <th>Balance</th>\n",
       "      <th>NumOfProducts</th>\n",
       "      <th>HasCrCard</th>\n",
       "      <th>IsActiveMember</th>\n",
       "      <th>EstimatedSalary</th>\n",
       "      <th>Exited</th>\n",
       "    </tr>\n",
       "  </thead>\n",
       "  <tbody>\n",
       "    <tr>\n",
       "      <th>0</th>\n",
       "      <td>15634602</td>\n",
       "      <td>Hargrave</td>\n",
       "      <td>619</td>\n",
       "      <td>France</td>\n",
       "      <td>Female</td>\n",
       "      <td>42</td>\n",
       "      <td>2</td>\n",
       "      <td>0.00</td>\n",
       "      <td>1</td>\n",
       "      <td>1</td>\n",
       "      <td>1</td>\n",
       "      <td>101348.88</td>\n",
       "      <td>1</td>\n",
       "    </tr>\n",
       "    <tr>\n",
       "      <th>1</th>\n",
       "      <td>15647311</td>\n",
       "      <td>Hill</td>\n",
       "      <td>608</td>\n",
       "      <td>Spain</td>\n",
       "      <td>Female</td>\n",
       "      <td>41</td>\n",
       "      <td>1</td>\n",
       "      <td>83807.86</td>\n",
       "      <td>1</td>\n",
       "      <td>0</td>\n",
       "      <td>1</td>\n",
       "      <td>112542.58</td>\n",
       "      <td>0</td>\n",
       "    </tr>\n",
       "    <tr>\n",
       "      <th>2</th>\n",
       "      <td>15619304</td>\n",
       "      <td>Onio</td>\n",
       "      <td>502</td>\n",
       "      <td>France</td>\n",
       "      <td>Female</td>\n",
       "      <td>42</td>\n",
       "      <td>8</td>\n",
       "      <td>159660.80</td>\n",
       "      <td>3</td>\n",
       "      <td>1</td>\n",
       "      <td>0</td>\n",
       "      <td>113931.57</td>\n",
       "      <td>1</td>\n",
       "    </tr>\n",
       "  </tbody>\n",
       "</table>\n",
       "</div>"
      ],
      "text/plain": [
       "   CustomerId   Surname  CreditScore Geography  Gender  Age  Tenure  \\\n",
       "0    15634602  Hargrave          619    France  Female   42       2   \n",
       "1    15647311      Hill          608     Spain  Female   41       1   \n",
       "2    15619304      Onio          502    France  Female   42       8   \n",
       "\n",
       "     Balance  NumOfProducts  HasCrCard  IsActiveMember  EstimatedSalary  \\\n",
       "0       0.00              1          1               1        101348.88   \n",
       "1   83807.86              1          0               1        112542.58   \n",
       "2  159660.80              3          1               0        113931.57   \n",
       "\n",
       "   Exited  \n",
       "0       1  \n",
       "1       0  \n",
       "2       1  "
      ]
     },
     "execution_count": 2,
     "metadata": {},
     "output_type": "execute_result"
    }
   ],
   "source": [
    "data = pd.read_csv('Churn_Modelling.csv').drop('RowNumber', axis=1)\n",
    "data.head(3)"
   ]
  },
  {
   "cell_type": "code",
   "execution_count": 3,
   "id": "1e18a17a",
   "metadata": {},
   "outputs": [],
   "source": [
    "qualitatives = ['CustomerId', 'Surname', 'Geography', 'Gender', 'HasCrCard', 'IsActiveMember', 'Exited']\n",
    "quantitatives = ['CreditScore', 'Age', 'Tenure', 'Balance', 'NumOfProducts', 'EstimatedSalary']"
   ]
  },
  {
   "cell_type": "markdown",
   "id": "bdb3c455",
   "metadata": {},
   "source": [
    "### Feature engineering"
   ]
  },
  {
   "cell_type": "markdown",
   "id": "c576ac34",
   "metadata": {},
   "source": [
    "#### Format correction"
   ]
  },
  {
   "cell_type": "code",
   "execution_count": 4,
   "id": "8f496a16",
   "metadata": {},
   "outputs": [],
   "source": [
    "data = pd.concat([data.drop('Geography', axis=1), pd.get_dummies(data['Geography'], prefix='Geography')], axis=1) "
   ]
  },
  {
   "cell_type": "markdown",
   "id": "b5e7b5ed",
   "metadata": {},
   "source": [
    "*Geography* é uma coluna categorica textual. Dessa forma, foi necessário **separar uma coluna para cada valor possível dessa varíavel**. O resultado foi a criação de novas três colunas: 'Geography_France', 'Geography_Germany' e 'Geography_Spain'."
   ]
  },
  {
   "cell_type": "code",
   "execution_count": 5,
   "id": "3a35c7e8",
   "metadata": {},
   "outputs": [],
   "source": [
    "data['Gender_Male'] = data['Gender'].apply(lambda x:1 if x == 'Male' else 0)"
   ]
  },
  {
   "cell_type": "markdown",
   "id": "400ebb59",
   "metadata": {},
   "source": [
    "Gender também é uma coluna categórica textual com os valores possíveis 'Male' e 'Female'. Os valores textuais 'Male' foram substituidos por 1, enquanto 'Female' por 0. A coluna foi renomeada para Gender_male com intuito de tornar a mudança mais intuitiva."
   ]
  },
  {
   "cell_type": "markdown",
   "id": "a7feaae4",
   "metadata": {},
   "source": [
    "#### Feature creation"
   ]
  },
  {
   "cell_type": "code",
   "execution_count": 6,
   "id": "4ebd8e02",
   "metadata": {},
   "outputs": [],
   "source": [
    "surnames = data['Surname'].values\n",
    "\n",
    "def surname_freq(surname):\n",
    "    cont = 0\n",
    "    \n",
    "    for name in surnames:\n",
    "        if name == surname:\n",
    "            cont += 1\n",
    "            \n",
    "    return cont\n",
    "\n",
    "data['Surname_freq'] = data['Surname'].apply(surname_freq)\n",
    "data['Has_parent'] = data['Surname_freq'].apply(lambda x:1 if x > 1 else 0)"
   ]
  },
  {
   "cell_type": "markdown",
   "id": "3ccf1ef2",
   "metadata": {},
   "source": [
    "Como *surnames* é uma característica textual do indivíduo, ela não fornece muita informação a priori. Dessa forma, tal coluna foi processada e duas características novas foram criadas: \n",
    "- Surname_freq: frequência que aparece o sobrenome\n",
    "- Has_parent: se o cliente tem parente na empresa (Surname_freq > 1)"
   ]
  },
  {
   "cell_type": "code",
   "execution_count": 7,
   "id": "99f0f0ad",
   "metadata": {},
   "outputs": [],
   "source": [
    "data = data[['CreditScore', 'Gender_Male', 'Age', 'Tenure', 'Balance',\n",
    "             'NumOfProducts', 'HasCrCard', 'IsActiveMember', 'EstimatedSalary',\n",
    "             'Geography_France', 'Geography_Germany', 'Geography_Spain',\n",
    "             'Surname_freq', 'Has_parent', 'Exited']]"
   ]
  },
  {
   "cell_type": "markdown",
   "id": "08ecd474",
   "metadata": {},
   "source": [
    "Ordem das colunas foi apenas reajustada para que *Exited* se mantivésse em último no conjunto."
   ]
  },
  {
   "cell_type": "code",
   "execution_count": 8,
   "id": "8b8ebbf6",
   "metadata": {},
   "outputs": [],
   "source": [
    "qualitatives = ['CustomerId', 'Surname', 'Geography_France', 'Geography_Germany',\n",
    "                'Geography_Spain', 'Gender_Male', 'Gender_Female', 'HasCrCard', 'IsActiveMember', \n",
    "                'Has_parent', 'Exited']\n",
    "\n",
    "quantitatives = ['CreditScore', 'Age', 'Tenure', 'Balance', 'NumOfProducts', \n",
    "                 'EstimatedSalary', 'Surname_freq']"
   ]
  },
  {
   "cell_type": "markdown",
   "id": "d541cc6a",
   "metadata": {},
   "source": [
    "#### Sample balancement"
   ]
  },
  {
   "cell_type": "code",
   "execution_count": 9,
   "id": "f06ca892",
   "metadata": {},
   "outputs": [
    {
     "data": {
      "text/html": [
       "<div>\n",
       "<style scoped>\n",
       "    .dataframe tbody tr th:only-of-type {\n",
       "        vertical-align: middle;\n",
       "    }\n",
       "\n",
       "    .dataframe tbody tr th {\n",
       "        vertical-align: top;\n",
       "    }\n",
       "\n",
       "    .dataframe thead th {\n",
       "        text-align: right;\n",
       "    }\n",
       "</style>\n",
       "<table border=\"1\" class=\"dataframe\">\n",
       "  <thead>\n",
       "    <tr style=\"text-align: right;\">\n",
       "      <th></th>\n",
       "      <th>Exited</th>\n",
       "    </tr>\n",
       "  </thead>\n",
       "  <tbody>\n",
       "    <tr>\n",
       "      <th>0</th>\n",
       "      <td>0.7963</td>\n",
       "    </tr>\n",
       "    <tr>\n",
       "      <th>1</th>\n",
       "      <td>0.2037</td>\n",
       "    </tr>\n",
       "  </tbody>\n",
       "</table>\n",
       "</div>"
      ],
      "text/plain": [
       "   Exited\n",
       "0  0.7963\n",
       "1  0.2037"
      ]
     },
     "metadata": {},
     "output_type": "display_data"
    }
   ],
   "source": [
    "display(data['Exited'].value_counts(normalize=True).to_frame())"
   ]
  },
  {
   "cell_type": "markdown",
   "id": "df0aa098",
   "metadata": {},
   "source": [
    "Como pôde ser visualizado, existem muito mais casos no conjunto de não saída do que de saída, o que pode gerar um modelo tendencioso para casos de não saída. \n",
    "\n",
    "Dessa forma, será realizada então uma sub amostragem aleatória dessa amostra (para casos de não saída) para que haja balanceamento entre os possíveis valores. "
   ]
  },
  {
   "cell_type": "code",
   "execution_count": 10,
   "id": "6df82f06",
   "metadata": {},
   "outputs": [],
   "source": [
    "np.random.seed(7)\n",
    "\n",
    "i = data.query('Exited == 0').index\n",
    "n = len(data.query('Exited == 1').index.to_list()) + 1\n",
    "\n",
    "i_sampled = np.random.choice(i, n)"
   ]
  },
  {
   "cell_type": "markdown",
   "id": "c4ec08ad",
   "metadata": {},
   "source": [
    "Com o procedimento acima, foi feita uma subamostragem a amostra total de valores *Exited* iguais a 0. Abaixo será avaliado se a subamostra representa aceitavelmente a amostra original. Cada coluna da nova amostra será comparada com cada coluna da amostra total através do teste de distribuição amostral KS."
   ]
  },
  {
   "cell_type": "code",
   "execution_count": 11,
   "id": "674abb81",
   "metadata": {},
   "outputs": [
    {
     "name": "stdout",
     "output_type": "stream",
     "text": [
      "KstestResult(statistic=0.01850295842018107, pvalue=0.6268346939267911)\n",
      "KstestResult(statistic=0.008734891020133969, pvalue=0.9995686023232188)\n",
      "KstestResult(statistic=0.014679275358050118, pvalue=0.8693319727498474)\n",
      "KstestResult(statistic=0.014443272165167236, pvalue=0.8814529409950974)\n",
      "KstestResult(statistic=0.01571898341901954, pvalue=0.8102788478046019)\n",
      "KstestResult(statistic=0.002671087834226428, pvalue=1.0)\n",
      "KstestResult(statistic=0.0033549425168933303, pvalue=1.0)\n",
      "KstestResult(statistic=0.002553086237784986, pvalue=1.0)\n",
      "KstestResult(statistic=0.01807673542144193, pvalue=0.655781895554356)\n",
      "KstestResult(statistic=0.0014988975631530371, pvalue=1.0)\n",
      "KstestResult(statistic=0.01579606957941027, pvalue=0.8055855007797085)\n",
      "KstestResult(statistic=0.017294967142563306, pvalue=0.7086826623303919)\n",
      "KstestResult(statistic=0.014726968953687547, pvalue=0.866821052450194)\n",
      "KstestResult(statistic=0.00807297292667498, pvalue=0.9999087527600019)\n",
      "KstestResult(statistic=0.0, pvalue=1.0)\n"
     ]
    }
   ],
   "source": [
    "original = data.loc[i]\n",
    "sampled = data.loc[i_sampled]\n",
    "\n",
    "for column in original.columns:\n",
    "    print(kstest(original[column].values, sampled[column].values))"
   ]
  },
  {
   "cell_type": "markdown",
   "id": "88361260",
   "metadata": {},
   "source": [
    "Como o resultado foi aceitável, o conjunto de dados será balanceado usando a amostra original Exited == 1 e a sub amostra Exited == 0."
   ]
  },
  {
   "cell_type": "code",
   "execution_count": 12,
   "id": "06bd6082",
   "metadata": {},
   "outputs": [
    {
     "data": {
      "text/html": [
       "<div>\n",
       "<style scoped>\n",
       "    .dataframe tbody tr th:only-of-type {\n",
       "        vertical-align: middle;\n",
       "    }\n",
       "\n",
       "    .dataframe tbody tr th {\n",
       "        vertical-align: top;\n",
       "    }\n",
       "\n",
       "    .dataframe thead th {\n",
       "        text-align: right;\n",
       "    }\n",
       "</style>\n",
       "<table border=\"1\" class=\"dataframe\">\n",
       "  <thead>\n",
       "    <tr style=\"text-align: right;\">\n",
       "      <th></th>\n",
       "      <th>Exited</th>\n",
       "    </tr>\n",
       "  </thead>\n",
       "  <tbody>\n",
       "    <tr>\n",
       "      <th>0</th>\n",
       "      <td>0.500123</td>\n",
       "    </tr>\n",
       "    <tr>\n",
       "      <th>1</th>\n",
       "      <td>0.499877</td>\n",
       "    </tr>\n",
       "  </tbody>\n",
       "</table>\n",
       "</div>"
      ],
      "text/plain": [
       "     Exited\n",
       "0  0.500123\n",
       "1  0.499877"
      ]
     },
     "metadata": {},
     "output_type": "display_data"
    }
   ],
   "source": [
    "data = pd.concat([data.query('Exited == 1'), data.loc[i_sampled]], axis=0).sort_index().reset_index(drop=True)\n",
    "\n",
    "display(data['Exited'].value_counts(normalize=True).to_frame())"
   ]
  },
  {
   "cell_type": "markdown",
   "id": "478c0532",
   "metadata": {},
   "source": [
    "Dessa forma, tem-se um conjunto de dados balanceado 50/50."
   ]
  },
  {
   "cell_type": "markdown",
   "id": "a253a3fc",
   "metadata": {},
   "source": [
    "#### Null values correction\n",
    "O conjunto obtido até aqui não apresenta dados nulos."
   ]
  },
  {
   "cell_type": "markdown",
   "id": "ca11f7db",
   "metadata": {},
   "source": [
    "### Outliers"
   ]
  },
  {
   "cell_type": "markdown",
   "id": "7e25f0e8",
   "metadata": {},
   "source": [
    "#### Cases detection"
   ]
  },
  {
   "cell_type": "code",
   "execution_count": 13,
   "id": "365a8d9c",
   "metadata": {},
   "outputs": [
    {
     "data": {
      "text/plain": [
       "<AxesSubplot:title={'center':'CreditScore'}>"
      ]
     },
     "metadata": {},
     "output_type": "display_data"
    },
    {
     "data": {
      "text/plain": [
       "<AxesSubplot:title={'center':'Age'}>"
      ]
     },
     "metadata": {},
     "output_type": "display_data"
    },
    {
     "data": {
      "text/plain": [
       "<AxesSubplot:title={'center':'Tenure'}>"
      ]
     },
     "metadata": {},
     "output_type": "display_data"
    },
    {
     "data": {
      "text/plain": [
       "<AxesSubplot:title={'center':'Balance'}>"
      ]
     },
     "metadata": {},
     "output_type": "display_data"
    },
    {
     "data": {
      "text/plain": [
       "<AxesSubplot:title={'center':'NumOfProducts'}>"
      ]
     },
     "metadata": {},
     "output_type": "display_data"
    },
    {
     "data": {
      "text/plain": [
       "<AxesSubplot:title={'center':'EstimatedSalary'}>"
      ]
     },
     "metadata": {},
     "output_type": "display_data"
    },
    {
     "data": {
      "text/plain": [
       "<AxesSubplot:title={'center':'Surname_freq'}>"
      ]
     },
     "metadata": {},
     "output_type": "display_data"
    },
    {
     "data": {
      "image/png": "[encoded data removed]",
      "text/plain": [
       "<Figure size 1296x576 with 8 Axes>"
      ]
     },
     "metadata": {
      "needs_background": "light"
     },
     "output_type": "display_data"
    }
   ],
   "source": [
    "i = 0\n",
    "j = 0\n",
    "\n",
    "fig, ax = plt.subplots(2, 4, figsize=(18, 8))\n",
    "\n",
    "for column in quantitatives:\n",
    "    ax[i][j].set_title(column)\n",
    "    display(data[column].plot(kind='box', ax=ax[i][j]))\n",
    "    j += 1\n",
    "\n",
    "    if j%4==0:\n",
    "        j = 0\n",
    "        i += 1"
   ]
  },
  {
   "cell_type": "markdown",
   "id": "ac00c13b",
   "metadata": {},
   "source": [
    "#### Treatment"
   ]
  },
  {
   "cell_type": "code",
   "execution_count": 14,
   "id": "44a74a93",
   "metadata": {},
   "outputs": [],
   "source": [
    "def threshold(data, column):\n",
    "    Q1 = data[column].quantile(0.25)\n",
    "    Q3 = data[column].quantile(0.75)\n",
    "\n",
    "    IQR = Q3 - Q1\n",
    "    lower_threshold = Q1 - 1.5*IQR\n",
    "    upper_threshold = Q3 + 1.5*IQR\n",
    "    \n",
    "    return lower_threshold, upper_threshold\n",
    "\n",
    "\n",
    "for column_name in ['NumOfProducts', 'Age', 'Surname_freq', 'CreditScore']:\n",
    "    lt, ut = threshold(data, column_name)\n",
    "    data[column_name] = data[column_name].apply(lambda x: lt if x < lt else x)\n",
    "    data[column_name] = data[column_name].apply(lambda x: ut if x > ut else x)"
   ]
  },
  {
   "cell_type": "markdown",
   "id": "e0d40d9e",
   "metadata": {},
   "source": [
    "As anomalias foram tratadas utilizando a substituição de valor baseada em limite superior e inferior, em que:\n",
    " - Se determinado valor é maior que o limite superior, então o valor passa a ser o próprio limite superior\n",
    " - Se determinado valor é menor que o limite inferior, então o valor passa a ser o próprio limite inferior"
   ]
  },
  {
   "cell_type": "code",
   "execution_count": 15,
   "id": "87f5fdc6",
   "metadata": {},
   "outputs": [
    {
     "data": {
      "text/plain": [
       "<AxesSubplot:title={'center':'CreditScore'}>"
      ]
     },
     "metadata": {},
     "output_type": "display_data"
    },
    {
     "data": {
      "text/plain": [
       "<AxesSubplot:title={'center':'Age'}>"
      ]
     },
     "metadata": {},
     "output_type": "display_data"
    },
    {
     "data": {
      "text/plain": [
       "<AxesSubplot:title={'center':'Tenure'}>"
      ]
     },
     "metadata": {},
     "output_type": "display_data"
    },
    {
     "data": {
      "text/plain": [
       "<AxesSubplot:title={'center':'Balance'}>"
      ]
     },
     "metadata": {},
     "output_type": "display_data"
    },
    {
     "data": {
      "text/plain": [
       "<AxesSubplot:title={'center':'NumOfProducts'}>"
      ]
     },
     "metadata": {},
     "output_type": "display_data"
    },
    {
     "data": {
      "text/plain": [
       "<AxesSubplot:title={'center':'EstimatedSalary'}>"
      ]
     },
     "metadata": {},
     "output_type": "display_data"
    },
    {
     "data": {
      "text/plain": [
       "<AxesSubplot:title={'center':'Surname_freq'}>"
      ]
     },
     "metadata": {},
     "output_type": "display_data"
    },
    {
     "data": {
      "image/png": "[encoded data removed]",
      "text/plain": [
       "<Figure size 1296x576 with 8 Axes>"
      ]
     },
     "metadata": {
      "needs_background": "light"
     },
     "output_type": "display_data"
    }
   ],
   "source": [
    "i = 0\n",
    "j = 0\n",
    "\n",
    "fig, ax = plt.subplots(2, 4, figsize=(18, 8))\n",
    "\n",
    "for column in quantitatives:\n",
    "    ax[i][j].set_title(column)\n",
    "    display(data[column].plot(kind='box', ax=ax[i][j]))\n",
    "    j += 1\n",
    "\n",
    "    if j%4==0:\n",
    "        j = 0\n",
    "        i += 1"
   ]
  },
  {
   "cell_type": "markdown",
   "id": "01718035",
   "metadata": {},
   "source": [
    "Como observado, todas as anomalias foram tratadas."
   ]
  },
  {
   "cell_type": "markdown",
   "id": "8eb6bacf",
   "metadata": {},
   "source": [
    "### Distribution analyses"
   ]
  },
  {
   "cell_type": "code",
   "execution_count": 16,
   "id": "eebf5d90",
   "metadata": {},
   "outputs": [
    {
     "name": "stdout",
     "output_type": "stream",
     "text": [
      "\n",
      " CreditScore: p-value = 1.1853103134423781e-12\n",
      "\n",
      " Age: p-value = 1.4128842755862998e-23\n",
      "\n",
      " Tenure: p-value = 6.564754975526383e-36\n",
      "\n",
      " Balance: p-value = 0.0\n",
      "\n",
      " NumOfProducts: p-value = 0.0\n",
      "\n",
      " EstimatedSalary: p-value = 3.307495112982142e-34\n",
      "\n",
      " Surname_freq: p-value = 1.056579042100912e-42\n"
     ]
    }
   ],
   "source": [
    "#Identificação de normalidade\n",
    "for column in quantitatives:\n",
    "    print(f'\\n {column}: p-value = {shapiro(data[column])[1]}')"
   ]
  },
  {
   "cell_type": "markdown",
   "id": "2ebe09e6",
   "metadata": {},
   "source": [
    "Através do teste de Normalidade Shapiro, pode-se perceber que não há hevidências suficientes para considerar as variáveis quantitativas como variáveis de distribuição normal. "
   ]
  },
  {
   "cell_type": "code",
   "execution_count": 17,
   "id": "0daf009b",
   "metadata": {},
   "outputs": [],
   "source": [
    "#Normalização\n",
    "scaler = MinMaxScaler()\n",
    "\n",
    "normalized_data = data.copy()\n",
    "normalized_data[quantitatives] = scaler.fit_transform(normalized_data[quantitatives])"
   ]
  },
  {
   "cell_type": "markdown",
   "id": "a38e3a58",
   "metadata": {},
   "source": [
    "Como as colunas não são de distribuição normal, foi adotado como método de normalização dos dados a minimalização com máximos e mínimos."
   ]
  },
  {
   "cell_type": "markdown",
   "id": "ae4e0c20",
   "metadata": {},
   "source": [
    "## Data processing"
   ]
  },
  {
   "cell_type": "code",
   "execution_count": 18,
   "id": "eb146078",
   "metadata": {},
   "outputs": [],
   "source": [
    "def estimate_error_for_proportion(proportion, n, confidence=0.95):\n",
    "    zs = {0.8:1.28, 0.85:1.44, 0.9:1.645, 0.95:1.96, 0.98:2.33, 0.99: 2.576}\n",
    "    z = zs[confidence]\n",
    "    \n",
    "    p_hat = proportion\n",
    "    n = n\n",
    "\n",
    "    error = sqrt(p_hat*(1-p_hat)/n) * z\n",
    "\n",
    "    return error\n",
    "\n",
    "\n",
    "def estimate_error_for_mean(mean, std, n, confidence=0.95):\n",
    "    zs = {0.8:1.28, 0.85:1.44, 0.9:1.645, 0.95:1.96, 0.98:2.33, 0.99: 2.576}\n",
    "    z = zs[confidence]\n",
    "    \n",
    "    u_hat = mean\n",
    "    sigma_hat = std\n",
    "    \n",
    "    error = sigma_hat/sqrt(n) * z\n",
    "    \n",
    "    return error"
   ]
  },
  {
   "cell_type": "markdown",
   "id": "9a81b2c9",
   "metadata": {},
   "source": [
    "### Correlations analyses"
   ]
  },
  {
   "cell_type": "code",
   "execution_count": 19,
   "id": "aa63ddd7",
   "metadata": {
    "scrolled": false
   },
   "outputs": [
    {
     "data": {
      "image/png": "[encoded data removed]",
      "text/plain": [
       "<Figure size 1008x504 with 2 Axes>"
      ]
     },
     "metadata": {
      "needs_background": "light"
     },
     "output_type": "display_data"
    }
   ],
   "source": [
    "fig = plt.subplots(figsize=(14,7))\n",
    "\n",
    "sns.heatmap(normalized_data.corr(), annot=True, cmap='Blues')\n",
    "plt.show()"
   ]
  },
  {
   "cell_type": "markdown",
   "id": "2d3c1628",
   "metadata": {},
   "source": [
    "#### Correlation of each variable with the target variable"
   ]
  },
  {
   "cell_type": "code",
   "execution_count": 20,
   "id": "21c1f6fb",
   "metadata": {},
   "outputs": [
    {
     "data": {
      "text/html": [
       "<div>\n",
       "<style scoped>\n",
       "    .dataframe tbody tr th:only-of-type {\n",
       "        vertical-align: middle;\n",
       "    }\n",
       "\n",
       "    .dataframe tbody tr th {\n",
       "        vertical-align: top;\n",
       "    }\n",
       "\n",
       "    .dataframe thead th {\n",
       "        text-align: right;\n",
       "    }\n",
       "</style>\n",
       "<table border=\"1\" class=\"dataframe\">\n",
       "  <thead>\n",
       "    <tr style=\"text-align: right;\">\n",
       "      <th></th>\n",
       "      <th>Exited</th>\n",
       "    </tr>\n",
       "  </thead>\n",
       "  <tbody>\n",
       "    <tr>\n",
       "      <th>IsActiveMember</th>\n",
       "      <td>-0.191917</td>\n",
       "    </tr>\n",
       "    <tr>\n",
       "      <th>Geography_France</th>\n",
       "      <td>-0.132148</td>\n",
       "    </tr>\n",
       "    <tr>\n",
       "      <th>Gender_Male</th>\n",
       "      <td>-0.122945</td>\n",
       "    </tr>\n",
       "    <tr>\n",
       "      <th>NumOfProducts</th>\n",
       "      <td>-0.062051</td>\n",
       "    </tr>\n",
       "    <tr>\n",
       "      <th>Geography_Spain</th>\n",
       "      <td>-0.047082</td>\n",
       "    </tr>\n",
       "    <tr>\n",
       "      <th>CreditScore</th>\n",
       "      <td>-0.046223</td>\n",
       "    </tr>\n",
       "    <tr>\n",
       "      <th>HasCrCard</th>\n",
       "      <td>-0.012533</td>\n",
       "    </tr>\n",
       "    <tr>\n",
       "      <th>Tenure</th>\n",
       "      <td>-0.004927</td>\n",
       "    </tr>\n",
       "    <tr>\n",
       "      <th>Has_parent</th>\n",
       "      <td>0.001965</td>\n",
       "    </tr>\n",
       "    <tr>\n",
       "      <th>Surname_freq</th>\n",
       "      <td>0.006638</td>\n",
       "    </tr>\n",
       "    <tr>\n",
       "      <th>EstimatedSalary</th>\n",
       "      <td>0.015366</td>\n",
       "    </tr>\n",
       "    <tr>\n",
       "      <th>Balance</th>\n",
       "      <td>0.139793</td>\n",
       "    </tr>\n",
       "    <tr>\n",
       "      <th>Geography_Germany</th>\n",
       "      <td>0.184151</td>\n",
       "    </tr>\n",
       "    <tr>\n",
       "      <th>Age</th>\n",
       "      <td>0.373045</td>\n",
       "    </tr>\n",
       "    <tr>\n",
       "      <th>Exited</th>\n",
       "      <td>1.000000</td>\n",
       "    </tr>\n",
       "  </tbody>\n",
       "</table>\n",
       "</div>"
      ],
      "text/plain": [
       "                     Exited\n",
       "IsActiveMember    -0.191917\n",
       "Geography_France  -0.132148\n",
       "Gender_Male       -0.122945\n",
       "NumOfProducts     -0.062051\n",
       "Geography_Spain   -0.047082\n",
       "CreditScore       -0.046223\n",
       "HasCrCard         -0.012533\n",
       "Tenure            -0.004927\n",
       "Has_parent         0.001965\n",
       "Surname_freq       0.006638\n",
       "EstimatedSalary    0.015366\n",
       "Balance            0.139793\n",
       "Geography_Germany  0.184151\n",
       "Age                0.373045\n",
       "Exited             1.000000"
      ]
     },
     "execution_count": 20,
     "metadata": {},
     "output_type": "execute_result"
    }
   ],
   "source": [
    "normalized_data.corr()['Exited'].sort_values().to_frame()"
   ]
  },
  {
   "cell_type": "markdown",
   "id": "d79e0cbf",
   "metadata": {},
   "source": [
    "Através da análise das correlações acima, é possivel criar algumas hipóteses. Abaixo estão listados os 05 fatores mais determinantes para a saída de um cliente:\n",
    "1. **Idade:** quanto mais velho é o cliente, maior a chance de ele sair.\n",
    "2. **Atividade:** a chance de alguém sair é maior quando este não é ativo\n",
    "3. **Nacionalidade:** alemães possuem a maior chance de sair, espanhóis possuem chance menor e franceses menor ainda. \n",
    "4. **Saldo:** clientes com maiores saldos tendem a sair\n",
    "5. **Gênero:** clientes do gênero masculino tem menores chance de saída quando comparado com o gênero feminino."
   ]
  },
  {
   "cell_type": "code",
   "execution_count": 21,
   "id": "7367e5c2",
   "metadata": {},
   "outputs": [],
   "source": [
    "normalized_data.drop(columns={'Has_parent', 'Tenure'}, inplace=True)"
   ]
  },
  {
   "cell_type": "markdown",
   "id": "7780403b",
   "metadata": {},
   "source": [
    "#### Population parameters estimative\n",
    "\n",
    "Como mencionado acima, fatores importantes para análise são Idade, Atividade, Nacionalidade, Saldo e Gênero. Por essa razão, logo abaixo tais parâmetros serão estimados para a população (todos os clientes da empresa) em que a amostra faz parte. Isso será feito como tentativa de entender melhor o perfil desses clientes que abandonam a empresa."
   ]
  },
  {
   "cell_type": "code",
   "execution_count": 22,
   "id": "1cf0c5dd",
   "metadata": {},
   "outputs": [
    {
     "name": "stdout",
     "output_type": "stream",
     "text": [
      "- A idade média dos clientes que saem está entre 44 e 45 anos\n"
     ]
    }
   ],
   "source": [
    "# Age estimative\n",
    "u_hat = data.query('Exited == 1')['Age'].mean()\n",
    "sigma_hat = data.query('Exited == 1')['Age'].std()\n",
    "n_sample = data.query('Exited == 1')['Age'].count()\n",
    "error = estimate_error_for_mean(mean=u_hat, std=sigma_hat, n=n_sample, confidence=0.95)\n",
    "\n",
    "print('- A idade média dos clientes que saem está entre %d e %d anos' % (u_hat-error, u_hat+error))"
   ]
  },
  {
   "cell_type": "code",
   "execution_count": 23,
   "id": "79d8d3e8",
   "metadata": {},
   "outputs": [
    {
     "name": "stdout",
     "output_type": "stream",
     "text": [
      "- O saldo médio mensal dos clientes que saem está entre 7381.18 e 7803.58 dólares\n"
     ]
    }
   ],
   "source": [
    "# Balance estimative\n",
    "u_hat = data.query('Exited == 1')['Balance'].mean()\n",
    "sigma_hat = data.query('Exited == 1')['Balance'].std()\n",
    "n_sample = data.query('Exited == 1')['Balance'].count()\n",
    "error = estimate_error_for_mean(mean=u_hat, std=sigma_hat, n=n_sample, confidence=0.95)\n",
    "\n",
    "print('- O saldo médio mensal dos clientes que saem está entre %.2f e %.2f dólares' % ((u_hat-error)/12, (u_hat+error)/12))"
   ]
  },
  {
   "cell_type": "code",
   "execution_count": 24,
   "id": "37de02de",
   "metadata": {},
   "outputs": [
    {
     "name": "stdout",
     "output_type": "stream",
     "text": [
      "- A probabilidade de um cliente ativo não sair é de 58.26% a 62.71%\n"
     ]
    }
   ],
   "source": [
    "# Active proportion estimative\n",
    "p_hat = 1 - data.query('IsActiveMember == 1')['Exited'].mean()\n",
    "n_sample = data.query('IsActiveMember == 1')['Exited'].count()\n",
    "error = estimate_error_for_proportion(proportion=p_hat, n=n_sample, confidence=0.95)\n",
    "\n",
    "print('- A probabilidade de um cliente ativo não sair é de %.2f%% a %.2f%%' % (100*(p_hat-error), 100*(p_hat+error)))"
   ]
  },
  {
   "cell_type": "code",
   "execution_count": 25,
   "id": "440f9a39",
   "metadata": {},
   "outputs": [
    {
     "name": "stdout",
     "output_type": "stream",
     "text": [
      "- A probabilidade de um cliente masculino não sair é de 53.98% a 58.28%\n"
     ]
    }
   ],
   "source": [
    "# Gender proportion estimative\n",
    "p_hat = 1 - data.query('Gender_Male == 1')['Exited'].mean()\n",
    "n_sample = data.query('Gender_Male == 1')['Exited'].count()\n",
    "error = estimate_error_for_proportion(proportion=p_hat, n=n_sample, confidence=0.95)\n",
    "\n",
    "print('- A probabilidade de um cliente masculino não sair é de %.2f%% a %.2f%%' % (100*(p_hat-error), 100*(p_hat+error)))"
   ]
  },
  {
   "cell_type": "code",
   "execution_count": 26,
   "id": "55d678f1",
   "metadata": {},
   "outputs": [
    {
     "name": "stdout",
     "output_type": "stream",
     "text": [
      "- A probabilidade de um cliente alemão sair é de 60.96% a 66.23%\n"
     ]
    }
   ],
   "source": [
    "# Germany geo proportion estimative\n",
    "p_hat = data.query('Geography_Germany == 1')['Exited'].mean()\n",
    "n_sample = data.query('Geography_Germany == 1')['Exited'].count()\n",
    "error = estimate_error_for_proportion(proportion=p_hat, n=n_sample, confidence=0.95)\n",
    "\n",
    "print('- A probabilidade de um cliente alemão sair é de %.2f%% a %.2f%%' % (100*(p_hat-error), 100*(p_hat+error)))"
   ]
  },
  {
   "cell_type": "code",
   "execution_count": 27,
   "id": "4ec9294d",
   "metadata": {},
   "outputs": [
    {
     "name": "stdout",
     "output_type": "stream",
     "text": [
      "- A probabilidade de um cliente francês sair é de 40.65% a 45.11%\n"
     ]
    }
   ],
   "source": [
    "# France geo proportion estimative\n",
    "p_hat = data.query('Geography_France == 1')['Exited'].mean()\n",
    "n_sample = data.query('Geography_France == 1')['Exited'].count()\n",
    "error = estimate_error_for_proportion(proportion=p_hat, n=n_sample, confidence=0.95)\n",
    "\n",
    "print('- A probabilidade de um cliente francês sair é de %.2f%% a %.2f%%' % (100*(p_hat-error), 100*(p_hat+error)))"
   ]
  },
  {
   "cell_type": "code",
   "execution_count": 28,
   "id": "7db3bcd6",
   "metadata": {},
   "outputs": [
    {
     "name": "stdout",
     "output_type": "stream",
     "text": [
      "- A probabilidade de um cliente espanhol sair é de 42.34% a 48.83%\n"
     ]
    }
   ],
   "source": [
    "# Spain Geo proportion estimative\n",
    "p_hat = data.query('Geography_Spain == 1')['Exited'].mean()\n",
    "n_sample = data.query('Geography_Spain == 1')['Exited'].count()\n",
    "error = estimate_error_for_proportion(proportion=p_hat, n=n_sample, confidence=0.95)\n",
    "\n",
    "print('- A probabilidade de um cliente espanhol sair é de %.2f%% a %.2f%%' % (100*(p_hat-error), 100*(p_hat+error)))"
   ]
  },
  {
   "cell_type": "markdown",
   "id": "de599764",
   "metadata": {},
   "source": [
    "### Modeling"
   ]
  },
  {
   "cell_type": "code",
   "execution_count": 29,
   "id": "42ac0276",
   "metadata": {},
   "outputs": [
    {
     "data": {
      "text/plain": [
       "RandomForestClassifier(random_state=7)"
      ]
     },
     "execution_count": 29,
     "metadata": {},
     "output_type": "execute_result"
    }
   ],
   "source": [
    "X, y = normalized_data.drop('Exited', axis=1), normalized_data['Exited']\n",
    "\n",
    "kf = KFold(n_splits=5)\n",
    "\n",
    "rights = [] #rights list\n",
    "rights_positive = [] #positive rights list\n",
    "rights_negative = [] #negative rights list\n",
    "cms = [] #confusion matrix list\n",
    "rocs = [] #AUC ROC list\n",
    "\n",
    "for train_index, test_index in kf.split(X):\n",
    "    X_train, y_train = X.iloc[train_index], y.iloc[train_index]\n",
    "    X_test, y_test = X.iloc[test_index], y.iloc[test_index]\n",
    "    \n",
    "    model = RandomForestClassifier(random_state=7)\n",
    "    model.fit(X_train, y_train)\n",
    "    \n",
    "    y_hat = model.predict(X_test)\n",
    "\n",
    "    cm = confusion_matrix(y_true=y_test, y_pred=y_hat)\n",
    "    cms.append(cm)\n",
    "    \n",
    "    right = (cm[1][1] + cm[0][0]) / (cm[1][0] + cm[1][1] + cm[0][0] + cm[0][1])\n",
    "    rights.append(right)\n",
    "    \n",
    "    right_positive_rate = cm[1][1] / (cm[1][0] + cm[1][1])\n",
    "    rights_positive.append(right_positive_rate)\n",
    "    \n",
    "    right_negative_rate = cm[0][0] / (cm[0][0] + cm[0][1])\n",
    "    rights_negative.append(right_negative_rate)\n",
    "    \n",
    "    roc = roc_auc_score(y_true=y_test, y_score=model.predict_proba(X_test)[:, 1]) \n",
    "    rocs.append(roc)\n",
    "    \n",
    "rights = np.array(rights)    \n",
    "rights_positive = np.array(rights_positive)\n",
    "rights_negative = np.array(rights_negative)\n",
    "rocs = np.array(rocs)\n",
    "\n",
    "\n",
    "model.fit(X, y)"
   ]
  },
  {
   "cell_type": "markdown",
   "id": "e3875d69",
   "metadata": {},
   "source": [
    "Para criação do modelo preditivo foi utilizado o algoritmo de classificação com Floresta Aleatória. O modo de treinamento foi feito com validação cruzada de 5 dobras usando o conjunto de dados normalizado obtido com o pré processamento feito nesse arquivo. \n",
    "\n",
    "Para cada teste feito pela validação cruzada, a taxa de acertos com relação a casos positivos e a taxa de acertos com relação a negativos foram armazenadas, assim como a área sobre a curva ROC de cada teste.\n",
    "\n",
    "A avaliação do desempenho geral do modelo a partir do conjunto de dados utilizado pode ser encontrada no próximo tópico.\n",
    "\n"
   ]
  },
  {
   "cell_type": "markdown",
   "id": "78dd4ed8",
   "metadata": {},
   "source": [
    "## Evaluation"
   ]
  },
  {
   "cell_type": "markdown",
   "id": "60fda29f",
   "metadata": {},
   "source": [
    "#### Rights vs Erros"
   ]
  },
  {
   "cell_type": "code",
   "execution_count": 30,
   "id": "5acbff33",
   "metadata": {},
   "outputs": [
    {
     "name": "stdout",
     "output_type": "stream",
     "text": [
      "Para diferentes grupos de 100 pessoas cada analisados, o modelo acertou cerca de 75 a 79 (média 77%).\n"
     ]
    }
   ],
   "source": [
    "mean = rights.mean()\n",
    "std = rights.std()\n",
    "\n",
    "print('Para diferentes grupos de 100 pessoas cada analisados, o modelo acertou cerca de %d a %d (média %2.f%%).' % (100*(mean-std), 100*(mean+std), 100*mean))"
   ]
  },
  {
   "cell_type": "markdown",
   "id": "3b236f6f",
   "metadata": {},
   "source": [
    "#### Positive rights rate"
   ]
  },
  {
   "cell_type": "code",
   "execution_count": 31,
   "id": "1cb3f31a",
   "metadata": {},
   "outputs": [
    {
     "name": "stdout",
     "output_type": "stream",
     "text": [
      "Para diferentes grupos de 100 pessoas cada analisados que saíram (porém o modelo desconhecia essa informação),\n",
      "ele acertou cerca de 74 a 77 (média 76%).\n",
      "Portanto, a ocorrência de falso negativo foi de 22% a 25% (média 24%).\n"
     ]
    }
   ],
   "source": [
    "mean = rights_positive.mean()\n",
    "std = rights_positive.std()\n",
    "\n",
    "print('Para diferentes grupos de 100 pessoas cada analisados que saíram (porém o modelo desconhecia essa informação),\\nele acertou cerca de %d a %d (média %2.f%%).' % (100*(mean-std), 100*(mean+std), 100*mean))\n",
    "print('Portanto, a ocorrência de falso negativo foi de %d%% a %d%% (média %2.f%%).' % (100 - 100*(mean+std), 100 - 100*(mean-std), 100 - 100*mean))"
   ]
  },
  {
   "cell_type": "markdown",
   "id": "c5fd8b9b",
   "metadata": {},
   "source": [
    "#### Negative right rate"
   ]
  },
  {
   "cell_type": "code",
   "execution_count": 32,
   "id": "df6ab350",
   "metadata": {
    "scrolled": true
   },
   "outputs": [
    {
     "name": "stdout",
     "output_type": "stream",
     "text": [
      "Para diferentes grupos de 100 pessoas cada analisados que não saíram (porém o modelo desconhecia essa informação), ele acertou cerca de 75 a 81 (média 78%).\n",
      "Portanto, a ocorrência de falso positivo foi de 18% a 24% (média 22%).\n"
     ]
    }
   ],
   "source": [
    "mean = rights_negative.mean()\n",
    "std = rights_negative.std()\n",
    "\n",
    "print('Para diferentes grupos de 100 pessoas cada analisados que não saíram (porém o modelo desconhecia essa informação), ele acertou cerca de %d a %d (média %2.f%%).' % (100*(mean-std), 100*(mean+std), 100*mean))\n",
    "print('Portanto, a ocorrência de falso positivo foi de %d%% a %d%% (média %2.f%%).' % (100 - 100*(mean+std), 100 - 100*(mean-std), 100-100*mean))"
   ]
  },
  {
   "cell_type": "markdown",
   "id": "457bd359",
   "metadata": {},
   "source": [
    "### Estimated evaluation for after deploy the solution\n",
    "\n",
    "Estimativas feitas com intervalo de confiança de 98%."
   ]
  },
  {
   "cell_type": "code",
   "execution_count": 33,
   "id": "bad8c3b1",
   "metadata": {},
   "outputs": [
    {
     "name": "stdout",
     "output_type": "stream",
     "text": [
      "Número de pessoas testadas em cada grupo:  815\n"
     ]
    }
   ],
   "source": [
    "n = X.shape[0]//5\n",
    "print('Número de pessoas testadas em cada grupo: ', n)"
   ]
  },
  {
   "cell_type": "code",
   "execution_count": 34,
   "id": "f96bfcd2",
   "metadata": {},
   "outputs": [
    {
     "name": "stdout",
     "output_type": "stream",
     "text": [
      "A cada 100 pessoas, estima-se que o modelo acertará cerca de 72 a 82.\n"
     ]
    }
   ],
   "source": [
    "mean = rights.mean()\n",
    "std = rights.std() \n",
    "error = estimate_error_for_proportion(proportion=mean, n=n, confidence=0.98)\n",
    "\n",
    "print('A cada 100 pessoas, estima-se que o modelo acertará cerca de %d a %d.' % (100*(mean-std-error), 100*(mean+std+error)))"
   ]
  },
  {
   "cell_type": "code",
   "execution_count": 35,
   "id": "d85eed3c",
   "metadata": {},
   "outputs": [
    {
     "name": "stdout",
     "output_type": "stream",
     "text": [
      "A cada 100 pessoas que realmente sairiam, estima-se que o modelo acertará cerca de 71 a 81.\n",
      "Portanto, a ocorrência de falso negativo estimada é de 18% a 28% (média 24%).\n"
     ]
    }
   ],
   "source": [
    "mean = rights_positive.mean()\n",
    "std = rights_positive.std()\n",
    "error = estimate_error_for_proportion(proportion=mean, n=n, confidence=0.98)\n",
    "\n",
    "print('A cada 100 pessoas que realmente sairiam, estima-se que o modelo acertará cerca de %d a %d.' % (100*(mean-std-error), 100*(mean+std+error)))\n",
    "print('Portanto, a ocorrência de falso negativo estimada é de %d%% a %d%% (média %2.f%%).' % (100 - 100*(mean+std+error), 100 - 100*(mean-std-error), 100 - 100*mean))"
   ]
  },
  {
   "cell_type": "code",
   "execution_count": 36,
   "id": "cef09f0c",
   "metadata": {},
   "outputs": [
    {
     "name": "stdout",
     "output_type": "stream",
     "text": [
      "A cada 100 pessoas que não sairiam, estima-se que o modelo acertará cerca de 72 a 84.\n",
      "Portanto, a ocorrência de falso positivo estimada é de 15% a 27% (média 22%).\n"
     ]
    }
   ],
   "source": [
    "mean = rights_negative.mean()\n",
    "std = rights_negative.std()\n",
    "error = estimate_error_for_proportion(proportion=mean, n=n, confidence=0.98)\n",
    "\n",
    "print('A cada 100 pessoas que não sairiam, estima-se que o modelo acertará cerca de %d a %d.' % (100*(mean-std-error), 100*(mean+std+error)))\n",
    "print('Portanto, a ocorrência de falso positivo estimada é de %d%% a %d%% (média %2.f%%).' % (100 - 100*(mean+std+error), 100 - 100*(mean-std-error), 100 - 100*mean))"
   ]
  },
  {
   "cell_type": "markdown",
   "id": "219d3002",
   "metadata": {},
   "source": [
    "## Deploy"
   ]
  },
  {
   "cell_type": "markdown",
   "id": "2cdbcc2b",
   "metadata": {},
   "source": [
    "Neste arquivo contém apenas a primeira parte do processo de deploy da solução: o armazenamento do modelo utilizado e do normalizador utilizado para normalizar os dados."
   ]
  },
  {
   "cell_type": "markdown",
   "id": "cbbe5903",
   "metadata": {},
   "source": [
    "### Saving results"
   ]
  },
  {
   "cell_type": "markdown",
   "id": "51962d4f",
   "metadata": {},
   "source": [
    "#### Scaler save"
   ]
  },
  {
   "cell_type": "code",
   "execution_count": 37,
   "id": "c325bc22",
   "metadata": {},
   "outputs": [],
   "source": [
    "scaler_file = open('Scalers/min_max_quantitatives.pkl', 'wb')\n",
    "pickle.dump(scaler, scaler_file)\n",
    "scaler_file.close()"
   ]
  },
  {
   "cell_type": "markdown",
   "id": "5b6680b2",
   "metadata": {},
   "source": [
    "#### Model save"
   ]
  },
  {
   "cell_type": "code",
   "execution_count": 38,
   "id": "769450ec",
   "metadata": {},
   "outputs": [],
   "source": [
    "model_file = open('Scalers/min_max_quantitatives.pkl', 'wb')\n",
    "pickle.dump(model, model_file)\n",
    "model_file.close()"
   ]
  }
 ],
 "metadata": {
  "kernelspec": {
   "display_name": "Python 3",
   "language": "python",
   "name": "python3"
  },
  "language_info": {
   "codemirror_mode": {
    "name": "ipython",
    "version": 3
   },
   "file_extension": ".py",
   "mimetype": "text/x-python",
   "name": "python",
   "nbconvert_exporter": "python",
   "pygments_lexer": "ipython3",
   "version": "3.7.9"
  }
 },
 "nbformat": 4,
 "nbformat_minor": 5
}
