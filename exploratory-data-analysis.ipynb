{
 "cells": [
  {
   "cell_type": "code",
   "execution_count": 2,
   "id": "46972b14",
   "metadata": {},
   "outputs": [],
   "source": [
    "import pandas as pd\n",
    "import numpy as np\n",
    "import matplotlib.pyplot as plt\n",
    "import seaborn as sns\n",
    "\n",
    "from scipy.stats import kstest, shapiro \n",
    "from sklearn.preprocessing import StandardScaler, MinMaxScaler\n",
    "from sklearn.model_selection import KFold, train_test_split\n",
    "from sklearn.ensemble import RandomForestClassifier"
   ]
  },
  {
   "cell_type": "code",
   "execution_count": 3,
   "id": "8cfc648a",
   "metadata": {},
   "outputs": [],
   "source": [
    "# Data download\n",
    "# data = ..."
   ]
  },
  {
   "cell_type": "markdown",
   "id": "4749bf05",
   "metadata": {},
   "source": [
    "## Data pre processing"
   ]
  },
  {
   "cell_type": "code",
   "execution_count": null,
   "id": "1e18a17a",
   "metadata": {},
   "outputs": [],
   "source": [
    "#Correção de formato"
   ]
  },
  {
   "cell_type": "code",
   "execution_count": null,
   "id": "29fb9595",
   "metadata": {},
   "outputs": [],
   "source": [
    "#Correção de valores nulos"
   ]
  },
  {
   "cell_type": "code",
   "execution_count": null,
   "id": "365a8d9c",
   "metadata": {},
   "outputs": [],
   "source": [
    "#Identificação e remoção de outliers"
   ]
  },
  {
   "cell_type": "code",
   "execution_count": null,
   "id": "3a0b6465",
   "metadata": {},
   "outputs": [],
   "source": [
    "#Feature Engineering"
   ]
  },
  {
   "cell_type": "code",
   "execution_count": null,
   "id": "eebf5d90",
   "metadata": {},
   "outputs": [],
   "source": [
    "#Identificação de normalidade"
   ]
  },
  {
   "cell_type": "code",
   "execution_count": null,
   "id": "0daf009b",
   "metadata": {},
   "outputs": [],
   "source": [
    "#Normalização e padronização"
   ]
  }
 ],
 "metadata": {
  "kernelspec": {
   "display_name": "Python 3",
   "language": "python",
   "name": "python3"
  },
  "language_info": {
   "codemirror_mode": {
    "name": "ipython",
    "version": 3
   },
   "file_extension": ".py",
   "mimetype": "text/x-python",
   "name": "python",
   "nbconvert_exporter": "python",
   "pygments_lexer": "ipython3",
   "version": "3.7.9"
  }
 },
 "nbformat": 4,
 "nbformat_minor": 5
}
