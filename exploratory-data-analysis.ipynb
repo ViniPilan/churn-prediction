{
 "cells": [
  {
   "cell_type": "markdown",
   "id": "bcc48878",
   "metadata": {},
   "source": [
    "# Exploraty data analyses"
   ]
  },
  {
   "cell_type": "markdown",
   "id": "25e2a002",
   "metadata": {},
   "source": [
    "Comentar brevemente sobre o problema e depois sobre o que foi desenvolvido."
   ]
  },
  {
   "cell_type": "markdown",
   "id": "5e2ab89c",
   "metadata": {},
   "source": [
    "### Summary"
   ]
  },
  {
   "cell_type": "markdown",
   "id": "1c28464d",
   "metadata": {},
   "source": [
    "1. [Imports](#Imports)\n",
    "2. [Data pre processing](#Data-pre-processing)\n",
    "    - Accessing the data\n",
    "    - Feature engineering: format correction, feature creation, sample balancement, null values correction\n",
    "    - Outliers\n",
    "    - Distribution analyses\n",
    "    \n",
    "    \n",
    "3. [Data processing](#Data-processing)\n",
    "    - Descriptive statistics analysis for each class (Exited/Not exited)\n",
    "    - Correlation analyses\n",
    "    \n",
    "    \n",
    "4. [Data split](#Data-split)\n",
    "5. [Modeling](#Modeling)\n",
    "6. [Deploy](#Deploy): saving results"
   ]
  },
  {
   "cell_type": "markdown",
   "id": "a000205c",
   "metadata": {},
   "source": [
    "## Imports"
   ]
  },
  {
   "cell_type": "code",
   "execution_count": null,
   "id": "d8921157",
   "metadata": {},
   "outputs": [],
   "source": [
    "import pandas as pd\n",
    "import numpy as np\n",
    "import matplotlib.pyplot as plt\n",
    "import seaborn as sns\n",
    "\n",
    "from scipy.stats import kstest, shapiro \n",
    "from sklearn.preprocessing import StandardScaler, MinMaxScaler\n",
    "from sklearn.model_selection import KFold, train_test_split\n",
    "from sklearn.ensemble import RandomForestClassifier\n",
    "from sklearn.metrics import confusion_matrix, roc_auc_score\n",
    "\n",
    "import pickle"
   ]
  },
  {
   "cell_type": "markdown",
   "id": "4749bf05",
   "metadata": {},
   "source": [
    "## Data pre processing"
   ]
  },
  {
   "cell_type": "markdown",
   "id": "199d0540",
   "metadata": {},
   "source": [
    "### Accessing the data"
   ]
  },
  {
   "cell_type": "code",
   "execution_count": 2,
   "id": "2e092ddc",
   "metadata": {},
   "outputs": [
    {
     "data": {
      "text/html": [
       "<div>\n",
       "<style scoped>\n",
       "    .dataframe tbody tr th:only-of-type {\n",
       "        vertical-align: middle;\n",
       "    }\n",
       "\n",
       "    .dataframe tbody tr th {\n",
       "        vertical-align: top;\n",
       "    }\n",
       "\n",
       "    .dataframe thead th {\n",
       "        text-align: right;\n",
       "    }\n",
       "</style>\n",
       "<table border=\"1\" class=\"dataframe\">\n",
       "  <thead>\n",
       "    <tr style=\"text-align: right;\">\n",
       "      <th></th>\n",
       "      <th>CustomerId</th>\n",
       "      <th>Surname</th>\n",
       "      <th>CreditScore</th>\n",
       "      <th>Geography</th>\n",
       "      <th>Gender</th>\n",
       "      <th>Age</th>\n",
       "      <th>Tenure</th>\n",
       "      <th>Balance</th>\n",
       "      <th>NumOfProducts</th>\n",
       "      <th>HasCrCard</th>\n",
       "      <th>IsActiveMember</th>\n",
       "      <th>EstimatedSalary</th>\n",
       "      <th>Exited</th>\n",
       "    </tr>\n",
       "  </thead>\n",
       "  <tbody>\n",
       "    <tr>\n",
       "      <th>0</th>\n",
       "      <td>15634602</td>\n",
       "      <td>Hargrave</td>\n",
       "      <td>619</td>\n",
       "      <td>France</td>\n",
       "      <td>Female</td>\n",
       "      <td>42</td>\n",
       "      <td>2</td>\n",
       "      <td>0.00</td>\n",
       "      <td>1</td>\n",
       "      <td>1</td>\n",
       "      <td>1</td>\n",
       "      <td>101348.88</td>\n",
       "      <td>1</td>\n",
       "    </tr>\n",
       "    <tr>\n",
       "      <th>1</th>\n",
       "      <td>15647311</td>\n",
       "      <td>Hill</td>\n",
       "      <td>608</td>\n",
       "      <td>Spain</td>\n",
       "      <td>Female</td>\n",
       "      <td>41</td>\n",
       "      <td>1</td>\n",
       "      <td>83807.86</td>\n",
       "      <td>1</td>\n",
       "      <td>0</td>\n",
       "      <td>1</td>\n",
       "      <td>112542.58</td>\n",
       "      <td>0</td>\n",
       "    </tr>\n",
       "    <tr>\n",
       "      <th>2</th>\n",
       "      <td>15619304</td>\n",
       "      <td>Onio</td>\n",
       "      <td>502</td>\n",
       "      <td>France</td>\n",
       "      <td>Female</td>\n",
       "      <td>42</td>\n",
       "      <td>8</td>\n",
       "      <td>159660.80</td>\n",
       "      <td>3</td>\n",
       "      <td>1</td>\n",
       "      <td>0</td>\n",
       "      <td>113931.57</td>\n",
       "      <td>1</td>\n",
       "    </tr>\n",
       "  </tbody>\n",
       "</table>\n",
       "</div>"
      ],
      "text/plain": [
       "   CustomerId   Surname  CreditScore Geography  Gender  Age  Tenure  \\\n",
       "0    15634602  Hargrave          619    France  Female   42       2   \n",
       "1    15647311      Hill          608     Spain  Female   41       1   \n",
       "2    15619304      Onio          502    France  Female   42       8   \n",
       "\n",
       "     Balance  NumOfProducts  HasCrCard  IsActiveMember  EstimatedSalary  \\\n",
       "0       0.00              1          1               1        101348.88   \n",
       "1   83807.86              1          0               1        112542.58   \n",
       "2  159660.80              3          1               0        113931.57   \n",
       "\n",
       "   Exited  \n",
       "0       1  \n",
       "1       0  \n",
       "2       1  "
      ]
     },
     "execution_count": 2,
     "metadata": {},
     "output_type": "execute_result"
    }
   ],
   "source": [
    "data = pd.read_csv('Churn_Modelling.csv').drop('RowNumber', axis=1)\n",
    "data.head(3)"
   ]
  },
  {
   "cell_type": "code",
   "execution_count": 3,
   "id": "1e18a17a",
   "metadata": {},
   "outputs": [],
   "source": [
    "qualitatives = ['CustomerId', 'Surname', 'Geography', 'Gender', 'HasCrCard', 'IsActiveMember', 'Exited']\n",
    "quantitatives = ['CreditScore', 'Age', 'Tenure', 'Balance', 'NumOfProducts', 'EstimatedSalary']"
   ]
  },
  {
   "cell_type": "markdown",
   "id": "bdb3c455",
   "metadata": {},
   "source": [
    "### Feature engineering"
   ]
  },
  {
   "cell_type": "markdown",
   "id": "c576ac34",
   "metadata": {},
   "source": [
    "#### Format correction"
   ]
  },
  {
   "cell_type": "code",
   "execution_count": 4,
   "id": "8f496a16",
   "metadata": {},
   "outputs": [],
   "source": [
    "data = pd.concat([data.drop('Geography', axis=1), pd.get_dummies(data['Geography'], prefix='Geography')], axis=1) "
   ]
  },
  {
   "cell_type": "markdown",
   "id": "b5e7b5ed",
   "metadata": {},
   "source": [
    "*Geography* é uma coluna categorica textual. Dessa forma, foi necessário **separar uma coluna para cada valor possível dessa varíavel**. O resultado foi a criação de novas três colunas: 'Geography_France', 'Geography_Germany' e 'Geography_Spain'."
   ]
  },
  {
   "cell_type": "code",
   "execution_count": 5,
   "id": "0b91fa79",
   "metadata": {},
   "outputs": [],
   "source": [
    "data['Gender_male'] = data['Gender'].apply(lambda x:1 if x == 'Male' else 0)"
   ]
  },
  {
   "cell_type": "markdown",
   "id": "916b4e18",
   "metadata": {},
   "source": [
    "*Gender* também é uma coluna categórica textual com os valores possíveis 'Male' e 'Female'. Os valores textuais 'Male' foram substituidos por 1, enquanto 'Female' por 0. A coluna foi renomeada para *Gender_male* com intuito de tornar a mudança mais intuitiva."
   ]
  },
  {
   "cell_type": "markdown",
   "id": "a7feaae4",
   "metadata": {},
   "source": [
    "#### Feature creation"
   ]
  },
  {
   "cell_type": "code",
   "execution_count": 6,
   "id": "4ebd8e02",
   "metadata": {},
   "outputs": [],
   "source": [
    "surnames = data['Surname'].values\n",
    "\n",
    "def surname_freq(surname):\n",
    "    cont = 0\n",
    "    \n",
    "    for name in surnames:\n",
    "        if name == surname:\n",
    "            cont += 1\n",
    "            \n",
    "    return cont\n",
    "\n",
    "data['Surname_freq'] = data['Surname'].apply(surname_freq)\n",
    "data['Has_parent'] = data['Surname_freq'].apply(lambda x:1 if x > 1 else 0)"
   ]
  },
  {
   "cell_type": "markdown",
   "id": "3ccf1ef2",
   "metadata": {},
   "source": [
    "Como *surnames* é uma característica textual do indivíduo, ela não fornece muita informação a priori. Dessa forma, tal coluna foi processada e duas características novas foram criadas: \n",
    "- Surname_freq: frequência que aparece o sobrenome\n",
    "- Has_parent: se o cliente tem parente na empresa (Surname_freq > 1)"
   ]
  },
  {
   "cell_type": "code",
   "execution_count": 7,
   "id": "99f0f0ad",
   "metadata": {},
   "outputs": [],
   "source": [
    "data = data[['CreditScore', 'Gender_male', 'Age', 'Tenure', 'Balance',\n",
    "             'NumOfProducts', 'HasCrCard', 'IsActiveMember', 'EstimatedSalary',\n",
    "             'Geography_France', 'Geography_Germany', 'Geography_Spain',\n",
    "             'Surname_freq', 'Has_parent', 'Exited']]"
   ]
  },
  {
   "cell_type": "markdown",
   "id": "08ecd474",
   "metadata": {},
   "source": [
    "Ordem das colunas foi apenas reajustada para que *Exited* se mantivésse em último no conjunto."
   ]
  },
  {
   "cell_type": "code",
   "execution_count": 8,
   "id": "8b8ebbf6",
   "metadata": {},
   "outputs": [],
   "source": [
    "qualitatives = ['CustomerId', 'Surname', 'Geography_France', 'Geography_Germany',\n",
    "                'Geography_Spain', 'Gender_male', 'HasCrCard', 'IsActiveMember', \n",
    "                'Has_parent', 'Exited']\n",
    "\n",
    "quantitatives = ['CreditScore', 'Age', 'Tenure', 'Balance', 'NumOfProducts', \n",
    "                 'EstimatedSalary', 'Surname_freq']"
   ]
  },
  {
   "cell_type": "markdown",
   "id": "d541cc6a",
   "metadata": {},
   "source": [
    "#### Sample balancement"
   ]
  },
  {
   "cell_type": "code",
   "execution_count": 9,
   "id": "f06ca892",
   "metadata": {},
   "outputs": [
    {
     "data": {
      "text/html": [
       "<div>\n",
       "<style scoped>\n",
       "    .dataframe tbody tr th:only-of-type {\n",
       "        vertical-align: middle;\n",
       "    }\n",
       "\n",
       "    .dataframe tbody tr th {\n",
       "        vertical-align: top;\n",
       "    }\n",
       "\n",
       "    .dataframe thead th {\n",
       "        text-align: right;\n",
       "    }\n",
       "</style>\n",
       "<table border=\"1\" class=\"dataframe\">\n",
       "  <thead>\n",
       "    <tr style=\"text-align: right;\">\n",
       "      <th></th>\n",
       "      <th>Exited</th>\n",
       "    </tr>\n",
       "  </thead>\n",
       "  <tbody>\n",
       "    <tr>\n",
       "      <th>0</th>\n",
       "      <td>0.7963</td>\n",
       "    </tr>\n",
       "    <tr>\n",
       "      <th>1</th>\n",
       "      <td>0.2037</td>\n",
       "    </tr>\n",
       "  </tbody>\n",
       "</table>\n",
       "</div>"
      ],
      "text/plain": [
       "   Exited\n",
       "0  0.7963\n",
       "1  0.2037"
      ]
     },
     "metadata": {},
     "output_type": "display_data"
    }
   ],
   "source": [
    "display(data['Exited'].value_counts(normalize=True).to_frame())"
   ]
  },
  {
   "cell_type": "markdown",
   "id": "df0aa098",
   "metadata": {},
   "source": [
    "Como pôde ser visualizado, existem muito mais casos no conjunto de não saída do que de saída, o que pode gerar um modelo tendencioso para casos de não saída. \n",
    "\n",
    "Dessa forma, será realizada então uma sub amostragem aleatória dessa amostra (para casos de não saída) para que haja balanceamento entre os possíveis valores. "
   ]
  },
  {
   "cell_type": "code",
   "execution_count": 10,
   "id": "6df82f06",
   "metadata": {},
   "outputs": [],
   "source": [
    "np.random.seed(7)\n",
    "\n",
    "i = data.query('Exited == 0').index\n",
    "n = len(data.query('Exited == 1').index.to_list()) + 1\n",
    "\n",
    "i_sampled = np.random.choice(i, n)"
   ]
  },
  {
   "cell_type": "markdown",
   "id": "c4ec08ad",
   "metadata": {},
   "source": [
    "Com o procedimento acima, foi feita uma subamostragem a amostra total de valores *Exited* iguais a 0. Abaixo será avaliado se a subamostra representa aceitavelmente a amostra original. Cada coluna da nova amostra será comparada com cada coluna da amostra total através do teste de distribuição amostral KS."
   ]
  },
  {
   "cell_type": "code",
   "execution_count": 11,
   "id": "674abb81",
   "metadata": {},
   "outputs": [
    {
     "name": "stdout",
     "output_type": "stream",
     "text": [
      "KstestResult(statistic=0.01850295842018107, pvalue=0.6268346939267916)\n",
      "KstestResult(statistic=0.008734891020133969, pvalue=0.9995686023232194)\n",
      "KstestResult(statistic=0.014679275358050118, pvalue=0.8693319727498474)\n",
      "KstestResult(statistic=0.014443272165167236, pvalue=0.8814529409950971)\n",
      "KstestResult(statistic=0.01571898341901954, pvalue=0.810278847804602)\n",
      "KstestResult(statistic=0.002671087834226428, pvalue=1.0)\n",
      "KstestResult(statistic=0.0033549425168933303, pvalue=1.0)\n",
      "KstestResult(statistic=0.002553086237784986, pvalue=1.0)\n",
      "KstestResult(statistic=0.01807673542144193, pvalue=0.6557818955543555)\n",
      "KstestResult(statistic=0.0014988975631530371, pvalue=1.0)\n",
      "KstestResult(statistic=0.01579606957941027, pvalue=0.8055855007797088)\n",
      "KstestResult(statistic=0.017294967142563306, pvalue=0.7086826623303911)\n",
      "KstestResult(statistic=0.014726968953687547, pvalue=0.866821052450195)\n",
      "KstestResult(statistic=0.00807297292667498, pvalue=0.9999087527600012)\n",
      "KstestResult(statistic=0.0, pvalue=1.0)\n"
     ]
    }
   ],
   "source": [
    "original = data.loc[i]\n",
    "sampled = data.loc[i_sampled]\n",
    "\n",
    "for column in original.columns:\n",
    "    print(kstest(original[column].values, sampled[column].values))"
   ]
  },
  {
   "cell_type": "markdown",
   "id": "88361260",
   "metadata": {},
   "source": [
    "Como o resultado foi aceitável, o conjunto de dados será balanceado usando a amostra original Exited == 1 e a subamostra Exited == 0."
   ]
  },
  {
   "cell_type": "code",
   "execution_count": 12,
   "id": "06bd6082",
   "metadata": {},
   "outputs": [
    {
     "data": {
      "text/html": [
       "<div>\n",
       "<style scoped>\n",
       "    .dataframe tbody tr th:only-of-type {\n",
       "        vertical-align: middle;\n",
       "    }\n",
       "\n",
       "    .dataframe tbody tr th {\n",
       "        vertical-align: top;\n",
       "    }\n",
       "\n",
       "    .dataframe thead th {\n",
       "        text-align: right;\n",
       "    }\n",
       "</style>\n",
       "<table border=\"1\" class=\"dataframe\">\n",
       "  <thead>\n",
       "    <tr style=\"text-align: right;\">\n",
       "      <th></th>\n",
       "      <th>Exited</th>\n",
       "    </tr>\n",
       "  </thead>\n",
       "  <tbody>\n",
       "    <tr>\n",
       "      <th>0</th>\n",
       "      <td>0.500123</td>\n",
       "    </tr>\n",
       "    <tr>\n",
       "      <th>1</th>\n",
       "      <td>0.499877</td>\n",
       "    </tr>\n",
       "  </tbody>\n",
       "</table>\n",
       "</div>"
      ],
      "text/plain": [
       "     Exited\n",
       "0  0.500123\n",
       "1  0.499877"
      ]
     },
     "metadata": {},
     "output_type": "display_data"
    }
   ],
   "source": [
    "data = pd.concat([data.query('Exited == 1'), data.loc[i_sampled]], axis=0).sort_index().reset_index(drop=True)\n",
    "\n",
    "display(data['Exited'].value_counts(normalize=True).to_frame())"
   ]
  },
  {
   "cell_type": "markdown",
   "id": "478c0532",
   "metadata": {},
   "source": [
    "Dessa forma, tem-se um conjunto de dados balanceado 50/50."
   ]
  },
  {
   "cell_type": "markdown",
   "id": "a253a3fc",
   "metadata": {},
   "source": [
    "#### Null values correction\n",
    "O conjunto obtido até aqui não apresenta dados nulos."
   ]
  },
  {
   "cell_type": "markdown",
   "id": "ca11f7db",
   "metadata": {},
   "source": [
    "### Outliers"
   ]
  },
  {
   "cell_type": "markdown",
   "id": "7e25f0e8",
   "metadata": {},
   "source": [
    "#### Cases detection"
   ]
  },
  {
   "cell_type": "code",
   "execution_count": 13,
   "id": "365a8d9c",
   "metadata": {},
   "outputs": [
    {
     "data": {
      "text/plain": [
       "<AxesSubplot:title={'center':'CreditScore'}>"
      ]
     },
     "metadata": {},
     "output_type": "display_data"
    },
    {
     "data": {
      "text/plain": [
       "<AxesSubplot:title={'center':'Age'}>"
      ]
     },
     "metadata": {},
     "output_type": "display_data"
    },
    {
     "data": {
      "text/plain": [
       "<AxesSubplot:title={'center':'Tenure'}>"
      ]
     },
     "metadata": {},
     "output_type": "display_data"
    },
    {
     "data": {
      "text/plain": [
       "<AxesSubplot:title={'center':'Balance'}>"
      ]
     },
     "metadata": {},
     "output_type": "display_data"
    },
    {
     "data": {
      "text/plain": [
       "<AxesSubplot:title={'center':'NumOfProducts'}>"
      ]
     },
     "metadata": {},
     "output_type": "display_data"
    },
    {
     "data": {
      "text/plain": [
       "<AxesSubplot:title={'center':'EstimatedSalary'}>"
      ]
     },
     "metadata": {},
     "output_type": "display_data"
    },
    {
     "data": {
      "text/plain": [
       "<AxesSubplot:title={'center':'Surname_freq'}>"
      ]
     },
     "metadata": {},
     "output_type": "display_data"
    },
    {
     "data": {
      "image/png": "[encoded data removed]",
      "text/plain": [
       "<Figure size 1296x576 with 8 Axes>"
      ]
     },
     "metadata": {
      "needs_background": "light"
     },
     "output_type": "display_data"
    }
   ],
   "source": [
    "i = 0\n",
    "j = 0\n",
    "\n",
    "fig, ax = plt.subplots(2, 4, figsize=(18, 8))\n",
    "\n",
    "for column in quantitatives:\n",
    "    ax[i][j].set_title(column)\n",
    "    display(data[column].plot(kind='box', ax=ax[i][j]))\n",
    "    j += 1\n",
    "\n",
    "    if j%4==0:\n",
    "        j = 0\n",
    "        i += 1"
   ]
  },
  {
   "cell_type": "markdown",
   "id": "8eb6bacf",
   "metadata": {},
   "source": [
    "### Distribution analyses"
   ]
  },
  {
   "cell_type": "code",
   "execution_count": 14,
   "id": "eebf5d90",
   "metadata": {},
   "outputs": [
    {
     "name": "stdout",
     "output_type": "stream",
     "text": [
      "\n",
      " CreditScore: p-value = 3.2254669855152907e-12\n",
      "\n",
      " Age: p-value = 3.160709070211171e-24\n",
      "\n",
      " Tenure: p-value = 6.564754975526383e-36\n",
      "\n",
      " Balance: p-value = 0.0\n",
      "\n",
      " NumOfProducts: p-value = 0.0\n",
      "\n",
      " EstimatedSalary: p-value = 3.307495112982142e-34\n",
      "\n",
      " Surname_freq: p-value = 9.542842542052004e-43\n"
     ]
    }
   ],
   "source": [
    "#Identificação de normalidade\n",
    "for column in quantitatives:\n",
    "    print(f'\\n {column}: p-value = {shapiro(data[column])[1]}')"
   ]
  },
  {
   "cell_type": "markdown",
   "id": "2ebe09e6",
   "metadata": {},
   "source": [
    "Através do teste de Normalidade Shapiro, pode-se perceber que não há hevidências suficientes para considerar as variáveis quantitativas como variáveis de distribuição normal. "
   ]
  },
  {
   "cell_type": "code",
   "execution_count": 15,
   "id": "0daf009b",
   "metadata": {},
   "outputs": [],
   "source": [
    "#Normalização\n",
    "scaler = MinMaxScaler()\n",
    "\n",
    "data[quantitatives] = scaler.fit_transform(data[quantitatives])"
   ]
  },
  {
   "cell_type": "markdown",
   "id": "a38e3a58",
   "metadata": {},
   "source": [
    "Como as colunas não são de distribuição normal, foi adotado como método de normalização dos dados a minimalização com máximos e mínimos."
   ]
  },
  {
   "cell_type": "markdown",
   "id": "ae4e0c20",
   "metadata": {},
   "source": [
    "## Data processing"
   ]
  },
  {
   "cell_type": "code",
   "execution_count": 16,
   "id": "d1f5051d",
   "metadata": {
    "scrolled": true
   },
   "outputs": [
    {
     "data": {
      "text/html": [
       "<div>\n",
       "<style scoped>\n",
       "    .dataframe tbody tr th:only-of-type {\n",
       "        vertical-align: middle;\n",
       "    }\n",
       "\n",
       "    .dataframe tbody tr th {\n",
       "        vertical-align: top;\n",
       "    }\n",
       "\n",
       "    .dataframe thead th {\n",
       "        text-align: right;\n",
       "    }\n",
       "</style>\n",
       "<table border=\"1\" class=\"dataframe\">\n",
       "  <thead>\n",
       "    <tr style=\"text-align: right;\">\n",
       "      <th></th>\n",
       "      <th>CreditScore</th>\n",
       "      <th>Gender_male</th>\n",
       "      <th>Age</th>\n",
       "      <th>Tenure</th>\n",
       "      <th>Balance</th>\n",
       "      <th>NumOfProducts</th>\n",
       "      <th>HasCrCard</th>\n",
       "      <th>IsActiveMember</th>\n",
       "      <th>EstimatedSalary</th>\n",
       "      <th>Geography_France</th>\n",
       "      <th>Geography_Germany</th>\n",
       "      <th>Geography_Spain</th>\n",
       "      <th>Surname_freq</th>\n",
       "      <th>Has_parent</th>\n",
       "      <th>Exited</th>\n",
       "    </tr>\n",
       "  </thead>\n",
       "  <tbody>\n",
       "    <tr>\n",
       "      <th>count</th>\n",
       "      <td>2038.000000</td>\n",
       "      <td>2038.000000</td>\n",
       "      <td>2038.000000</td>\n",
       "      <td>2038.000000</td>\n",
       "      <td>2038.000000</td>\n",
       "      <td>2038.000000</td>\n",
       "      <td>2038.000000</td>\n",
       "      <td>2038.000000</td>\n",
       "      <td>2038.000000</td>\n",
       "      <td>2038.000000</td>\n",
       "      <td>2038.000000</td>\n",
       "      <td>2038.000000</td>\n",
       "      <td>2038.000000</td>\n",
       "      <td>2038.000000</td>\n",
       "      <td>2038.0</td>\n",
       "    </tr>\n",
       "    <tr>\n",
       "      <th>mean</th>\n",
       "      <td>0.609070</td>\n",
       "      <td>0.563788</td>\n",
       "      <td>0.289804</td>\n",
       "      <td>0.496124</td>\n",
       "      <td>0.295053</td>\n",
       "      <td>0.180242</td>\n",
       "      <td>0.710500</td>\n",
       "      <td>0.552012</td>\n",
       "      <td>0.498443</td>\n",
       "      <td>0.529441</td>\n",
       "      <td>0.228656</td>\n",
       "      <td>0.241904</td>\n",
       "      <td>0.256070</td>\n",
       "      <td>0.850343</td>\n",
       "      <td>0.0</td>\n",
       "    </tr>\n",
       "    <tr>\n",
       "      <th>std</th>\n",
       "      <td>0.191201</td>\n",
       "      <td>0.496036</td>\n",
       "      <td>0.151819</td>\n",
       "      <td>0.284745</td>\n",
       "      <td>0.249418</td>\n",
       "      <td>0.169405</td>\n",
       "      <td>0.453641</td>\n",
       "      <td>0.497409</td>\n",
       "      <td>0.291684</td>\n",
       "      <td>0.499255</td>\n",
       "      <td>0.420070</td>\n",
       "      <td>0.428341</td>\n",
       "      <td>0.220529</td>\n",
       "      <td>0.356822</td>\n",
       "      <td>0.0</td>\n",
       "    </tr>\n",
       "    <tr>\n",
       "      <th>min</th>\n",
       "      <td>0.130000</td>\n",
       "      <td>0.000000</td>\n",
       "      <td>0.000000</td>\n",
       "      <td>0.000000</td>\n",
       "      <td>0.000000</td>\n",
       "      <td>0.000000</td>\n",
       "      <td>0.000000</td>\n",
       "      <td>0.000000</td>\n",
       "      <td>0.000476</td>\n",
       "      <td>0.000000</td>\n",
       "      <td>0.000000</td>\n",
       "      <td>0.000000</td>\n",
       "      <td>0.000000</td>\n",
       "      <td>0.000000</td>\n",
       "      <td>0.0</td>\n",
       "    </tr>\n",
       "    <tr>\n",
       "      <th>25%</th>\n",
       "      <td>0.474000</td>\n",
       "      <td>0.000000</td>\n",
       "      <td>0.196970</td>\n",
       "      <td>0.200000</td>\n",
       "      <td>0.000000</td>\n",
       "      <td>0.000000</td>\n",
       "      <td>0.000000</td>\n",
       "      <td>0.000000</td>\n",
       "      <td>0.250112</td>\n",
       "      <td>0.000000</td>\n",
       "      <td>0.000000</td>\n",
       "      <td>0.000000</td>\n",
       "      <td>0.064516</td>\n",
       "      <td>1.000000</td>\n",
       "      <td>0.0</td>\n",
       "    </tr>\n",
       "    <tr>\n",
       "      <th>50%</th>\n",
       "      <td>0.614000</td>\n",
       "      <td>1.000000</td>\n",
       "      <td>0.272727</td>\n",
       "      <td>0.500000</td>\n",
       "      <td>0.367661</td>\n",
       "      <td>0.333333</td>\n",
       "      <td>1.000000</td>\n",
       "      <td>1.000000</td>\n",
       "      <td>0.485148</td>\n",
       "      <td>1.000000</td>\n",
       "      <td>0.000000</td>\n",
       "      <td>0.000000</td>\n",
       "      <td>0.193548</td>\n",
       "      <td>1.000000</td>\n",
       "      <td>0.0</td>\n",
       "    </tr>\n",
       "    <tr>\n",
       "      <th>75%</th>\n",
       "      <td>0.735500</td>\n",
       "      <td>1.000000</td>\n",
       "      <td>0.348485</td>\n",
       "      <td>0.700000</td>\n",
       "      <td>0.503688</td>\n",
       "      <td>0.333333</td>\n",
       "      <td>1.000000</td>\n",
       "      <td>1.000000</td>\n",
       "      <td>0.747000</td>\n",
       "      <td>1.000000</td>\n",
       "      <td>0.000000</td>\n",
       "      <td>0.000000</td>\n",
       "      <td>0.419355</td>\n",
       "      <td>1.000000</td>\n",
       "      <td>0.0</td>\n",
       "    </tr>\n",
       "    <tr>\n",
       "      <th>max</th>\n",
       "      <td>1.000000</td>\n",
       "      <td>1.000000</td>\n",
       "      <td>0.954545</td>\n",
       "      <td>1.000000</td>\n",
       "      <td>0.882959</td>\n",
       "      <td>0.666667</td>\n",
       "      <td>1.000000</td>\n",
       "      <td>1.000000</td>\n",
       "      <td>1.000000</td>\n",
       "      <td>1.000000</td>\n",
       "      <td>1.000000</td>\n",
       "      <td>1.000000</td>\n",
       "      <td>1.000000</td>\n",
       "      <td>1.000000</td>\n",
       "      <td>0.0</td>\n",
       "    </tr>\n",
       "  </tbody>\n",
       "</table>\n",
       "</div>"
      ],
      "text/plain": [
       "       CreditScore  Gender_male          Age       Tenure      Balance  \\\n",
       "count  2038.000000  2038.000000  2038.000000  2038.000000  2038.000000   \n",
       "mean      0.609070     0.563788     0.289804     0.496124     0.295053   \n",
       "std       0.191201     0.496036     0.151819     0.284745     0.249418   \n",
       "min       0.130000     0.000000     0.000000     0.000000     0.000000   \n",
       "25%       0.474000     0.000000     0.196970     0.200000     0.000000   \n",
       "50%       0.614000     1.000000     0.272727     0.500000     0.367661   \n",
       "75%       0.735500     1.000000     0.348485     0.700000     0.503688   \n",
       "max       1.000000     1.000000     0.954545     1.000000     0.882959   \n",
       "\n",
       "       NumOfProducts    HasCrCard  IsActiveMember  EstimatedSalary  \\\n",
       "count    2038.000000  2038.000000     2038.000000      2038.000000   \n",
       "mean        0.180242     0.710500        0.552012         0.498443   \n",
       "std         0.169405     0.453641        0.497409         0.291684   \n",
       "min         0.000000     0.000000        0.000000         0.000476   \n",
       "25%         0.000000     0.000000        0.000000         0.250112   \n",
       "50%         0.333333     1.000000        1.000000         0.485148   \n",
       "75%         0.333333     1.000000        1.000000         0.747000   \n",
       "max         0.666667     1.000000        1.000000         1.000000   \n",
       "\n",
       "       Geography_France  Geography_Germany  Geography_Spain  Surname_freq  \\\n",
       "count       2038.000000        2038.000000      2038.000000   2038.000000   \n",
       "mean           0.529441           0.228656         0.241904      0.256070   \n",
       "std            0.499255           0.420070         0.428341      0.220529   \n",
       "min            0.000000           0.000000         0.000000      0.000000   \n",
       "25%            0.000000           0.000000         0.000000      0.064516   \n",
       "50%            1.000000           0.000000         0.000000      0.193548   \n",
       "75%            1.000000           0.000000         0.000000      0.419355   \n",
       "max            1.000000           1.000000         1.000000      1.000000   \n",
       "\n",
       "        Has_parent  Exited  \n",
       "count  2038.000000  2038.0  \n",
       "mean      0.850343     0.0  \n",
       "std       0.356822     0.0  \n",
       "min       0.000000     0.0  \n",
       "25%       1.000000     0.0  \n",
       "50%       1.000000     0.0  \n",
       "75%       1.000000     0.0  \n",
       "max       1.000000     0.0  "
      ]
     },
     "execution_count": 16,
     "metadata": {},
     "output_type": "execute_result"
    }
   ],
   "source": [
    "data.query('Exited == 0').describe()"
   ]
  },
  {
   "cell_type": "code",
   "execution_count": 17,
   "id": "282bfe76",
   "metadata": {
    "scrolled": true
   },
   "outputs": [
    {
     "data": {
      "text/html": [
       "<div>\n",
       "<style scoped>\n",
       "    .dataframe tbody tr th:only-of-type {\n",
       "        vertical-align: middle;\n",
       "    }\n",
       "\n",
       "    .dataframe tbody tr th {\n",
       "        vertical-align: top;\n",
       "    }\n",
       "\n",
       "    .dataframe thead th {\n",
       "        text-align: right;\n",
       "    }\n",
       "</style>\n",
       "<table border=\"1\" class=\"dataframe\">\n",
       "  <thead>\n",
       "    <tr style=\"text-align: right;\">\n",
       "      <th></th>\n",
       "      <th>CreditScore</th>\n",
       "      <th>Gender_male</th>\n",
       "      <th>Age</th>\n",
       "      <th>Tenure</th>\n",
       "      <th>Balance</th>\n",
       "      <th>NumOfProducts</th>\n",
       "      <th>HasCrCard</th>\n",
       "      <th>IsActiveMember</th>\n",
       "      <th>EstimatedSalary</th>\n",
       "      <th>Geography_France</th>\n",
       "      <th>Geography_Germany</th>\n",
       "      <th>Geography_Spain</th>\n",
       "      <th>Surname_freq</th>\n",
       "      <th>Has_parent</th>\n",
       "      <th>Exited</th>\n",
       "    </tr>\n",
       "  </thead>\n",
       "  <tbody>\n",
       "    <tr>\n",
       "      <th>count</th>\n",
       "      <td>2037.000000</td>\n",
       "      <td>2037.000000</td>\n",
       "      <td>2037.000000</td>\n",
       "      <td>2037.000000</td>\n",
       "      <td>2037.000000</td>\n",
       "      <td>2037.000000</td>\n",
       "      <td>2037.000000</td>\n",
       "      <td>2037.000000</td>\n",
       "      <td>2037.000000</td>\n",
       "      <td>2037.000000</td>\n",
       "      <td>2037.000000</td>\n",
       "      <td>2037.000000</td>\n",
       "      <td>2037.000000</td>\n",
       "      <td>2037.000000</td>\n",
       "      <td>2037.0</td>\n",
       "    </tr>\n",
       "    <tr>\n",
       "      <th>mean</th>\n",
       "      <td>0.590703</td>\n",
       "      <td>0.440844</td>\n",
       "      <td>0.406636</td>\n",
       "      <td>0.493274</td>\n",
       "      <td>0.363130</td>\n",
       "      <td>0.158403</td>\n",
       "      <td>0.699067</td>\n",
       "      <td>0.360825</td>\n",
       "      <td>0.507374</td>\n",
       "      <td>0.397644</td>\n",
       "      <td>0.399607</td>\n",
       "      <td>0.202749</td>\n",
       "      <td>0.259046</td>\n",
       "      <td>0.851743</td>\n",
       "      <td>1.0</td>\n",
       "    </tr>\n",
       "    <tr>\n",
       "      <th>std</th>\n",
       "      <td>0.200643</td>\n",
       "      <td>0.496610</td>\n",
       "      <td>0.147902</td>\n",
       "      <td>0.293611</td>\n",
       "      <td>0.232608</td>\n",
       "      <td>0.267174</td>\n",
       "      <td>0.458776</td>\n",
       "      <td>0.480358</td>\n",
       "      <td>0.289621</td>\n",
       "      <td>0.489531</td>\n",
       "      <td>0.489938</td>\n",
       "      <td>0.402146</td>\n",
       "      <td>0.225607</td>\n",
       "      <td>0.355442</td>\n",
       "      <td>0.0</td>\n",
       "    </tr>\n",
       "    <tr>\n",
       "      <th>min</th>\n",
       "      <td>0.000000</td>\n",
       "      <td>0.000000</td>\n",
       "      <td>0.000000</td>\n",
       "      <td>0.000000</td>\n",
       "      <td>0.000000</td>\n",
       "      <td>0.000000</td>\n",
       "      <td>0.000000</td>\n",
       "      <td>0.000000</td>\n",
       "      <td>0.000000</td>\n",
       "      <td>0.000000</td>\n",
       "      <td>0.000000</td>\n",
       "      <td>0.000000</td>\n",
       "      <td>0.000000</td>\n",
       "      <td>0.000000</td>\n",
       "      <td>1.0</td>\n",
       "    </tr>\n",
       "    <tr>\n",
       "      <th>25%</th>\n",
       "      <td>0.456000</td>\n",
       "      <td>0.000000</td>\n",
       "      <td>0.303030</td>\n",
       "      <td>0.200000</td>\n",
       "      <td>0.152811</td>\n",
       "      <td>0.000000</td>\n",
       "      <td>0.000000</td>\n",
       "      <td>0.000000</td>\n",
       "      <td>0.259534</td>\n",
       "      <td>0.000000</td>\n",
       "      <td>0.000000</td>\n",
       "      <td>0.000000</td>\n",
       "      <td>0.064516</td>\n",
       "      <td>1.000000</td>\n",
       "      <td>1.0</td>\n",
       "    </tr>\n",
       "    <tr>\n",
       "      <th>50%</th>\n",
       "      <td>0.592000</td>\n",
       "      <td>0.000000</td>\n",
       "      <td>0.409091</td>\n",
       "      <td>0.500000</td>\n",
       "      <td>0.435831</td>\n",
       "      <td>0.000000</td>\n",
       "      <td>1.000000</td>\n",
       "      <td>0.000000</td>\n",
       "      <td>0.512351</td>\n",
       "      <td>0.000000</td>\n",
       "      <td>0.000000</td>\n",
       "      <td>0.000000</td>\n",
       "      <td>0.193548</td>\n",
       "      <td>1.000000</td>\n",
       "      <td>1.0</td>\n",
       "    </tr>\n",
       "    <tr>\n",
       "      <th>75%</th>\n",
       "      <td>0.732000</td>\n",
       "      <td>1.000000</td>\n",
       "      <td>0.500000</td>\n",
       "      <td>0.800000</td>\n",
       "      <td>0.523851</td>\n",
       "      <td>0.333333</td>\n",
       "      <td>1.000000</td>\n",
       "      <td>1.000000</td>\n",
       "      <td>0.762212</td>\n",
       "      <td>1.000000</td>\n",
       "      <td>1.000000</td>\n",
       "      <td>0.000000</td>\n",
       "      <td>0.419355</td>\n",
       "      <td>1.000000</td>\n",
       "      <td>1.0</td>\n",
       "    </tr>\n",
       "    <tr>\n",
       "      <th>max</th>\n",
       "      <td>1.000000</td>\n",
       "      <td>1.000000</td>\n",
       "      <td>1.000000</td>\n",
       "      <td>1.000000</td>\n",
       "      <td>1.000000</td>\n",
       "      <td>1.000000</td>\n",
       "      <td>1.000000</td>\n",
       "      <td>1.000000</td>\n",
       "      <td>0.999187</td>\n",
       "      <td>1.000000</td>\n",
       "      <td>1.000000</td>\n",
       "      <td>1.000000</td>\n",
       "      <td>1.000000</td>\n",
       "      <td>1.000000</td>\n",
       "      <td>1.0</td>\n",
       "    </tr>\n",
       "  </tbody>\n",
       "</table>\n",
       "</div>"
      ],
      "text/plain": [
       "       CreditScore  Gender_male          Age       Tenure      Balance  \\\n",
       "count  2037.000000  2037.000000  2037.000000  2037.000000  2037.000000   \n",
       "mean      0.590703     0.440844     0.406636     0.493274     0.363130   \n",
       "std       0.200643     0.496610     0.147902     0.293611     0.232608   \n",
       "min       0.000000     0.000000     0.000000     0.000000     0.000000   \n",
       "25%       0.456000     0.000000     0.303030     0.200000     0.152811   \n",
       "50%       0.592000     0.000000     0.409091     0.500000     0.435831   \n",
       "75%       0.732000     1.000000     0.500000     0.800000     0.523851   \n",
       "max       1.000000     1.000000     1.000000     1.000000     1.000000   \n",
       "\n",
       "       NumOfProducts    HasCrCard  IsActiveMember  EstimatedSalary  \\\n",
       "count    2037.000000  2037.000000     2037.000000      2037.000000   \n",
       "mean        0.158403     0.699067        0.360825         0.507374   \n",
       "std         0.267174     0.458776        0.480358         0.289621   \n",
       "min         0.000000     0.000000        0.000000         0.000000   \n",
       "25%         0.000000     0.000000        0.000000         0.259534   \n",
       "50%         0.000000     1.000000        0.000000         0.512351   \n",
       "75%         0.333333     1.000000        1.000000         0.762212   \n",
       "max         1.000000     1.000000        1.000000         0.999187   \n",
       "\n",
       "       Geography_France  Geography_Germany  Geography_Spain  Surname_freq  \\\n",
       "count       2037.000000        2037.000000      2037.000000   2037.000000   \n",
       "mean           0.397644           0.399607         0.202749      0.259046   \n",
       "std            0.489531           0.489938         0.402146      0.225607   \n",
       "min            0.000000           0.000000         0.000000      0.000000   \n",
       "25%            0.000000           0.000000         0.000000      0.064516   \n",
       "50%            0.000000           0.000000         0.000000      0.193548   \n",
       "75%            1.000000           1.000000         0.000000      0.419355   \n",
       "max            1.000000           1.000000         1.000000      1.000000   \n",
       "\n",
       "        Has_parent  Exited  \n",
       "count  2037.000000  2037.0  \n",
       "mean      0.851743     1.0  \n",
       "std       0.355442     0.0  \n",
       "min       0.000000     1.0  \n",
       "25%       1.000000     1.0  \n",
       "50%       1.000000     1.0  \n",
       "75%       1.000000     1.0  \n",
       "max       1.000000     1.0  "
      ]
     },
     "execution_count": 17,
     "metadata": {},
     "output_type": "execute_result"
    }
   ],
   "source": [
    "data.query('Exited == 1').describe()"
   ]
  },
  {
   "cell_type": "markdown",
   "id": "9105356e",
   "metadata": {},
   "source": [
    "Inferências estatísticas aqui"
   ]
  },
  {
   "cell_type": "code",
   "execution_count": 18,
   "id": "aa63ddd7",
   "metadata": {
    "scrolled": true
   },
   "outputs": [
    {
     "data": {
      "text/html": [
       "<div>\n",
       "<style scoped>\n",
       "    .dataframe tbody tr th:only-of-type {\n",
       "        vertical-align: middle;\n",
       "    }\n",
       "\n",
       "    .dataframe tbody tr th {\n",
       "        vertical-align: top;\n",
       "    }\n",
       "\n",
       "    .dataframe thead th {\n",
       "        text-align: right;\n",
       "    }\n",
       "</style>\n",
       "<table border=\"1\" class=\"dataframe\">\n",
       "  <thead>\n",
       "    <tr style=\"text-align: right;\">\n",
       "      <th></th>\n",
       "      <th>CreditScore</th>\n",
       "      <th>Gender_male</th>\n",
       "      <th>Age</th>\n",
       "      <th>Tenure</th>\n",
       "      <th>Balance</th>\n",
       "      <th>NumOfProducts</th>\n",
       "      <th>HasCrCard</th>\n",
       "      <th>IsActiveMember</th>\n",
       "      <th>EstimatedSalary</th>\n",
       "      <th>Geography_France</th>\n",
       "      <th>Geography_Germany</th>\n",
       "      <th>Geography_Spain</th>\n",
       "      <th>Surname_freq</th>\n",
       "      <th>Has_parent</th>\n",
       "      <th>Exited</th>\n",
       "    </tr>\n",
       "  </thead>\n",
       "  <tbody>\n",
       "    <tr>\n",
       "      <th>CreditScore</th>\n",
       "      <td>1.000000</td>\n",
       "      <td>0.012491</td>\n",
       "      <td>-0.017975</td>\n",
       "      <td>0.008404</td>\n",
       "      <td>0.008494</td>\n",
       "      <td>0.001733</td>\n",
       "      <td>-0.004339</td>\n",
       "      <td>0.023523</td>\n",
       "      <td>-0.041584</td>\n",
       "      <td>-0.001705</td>\n",
       "      <td>-0.008672</td>\n",
       "      <td>0.011725</td>\n",
       "      <td>-0.005810</td>\n",
       "      <td>-0.024392</td>\n",
       "      <td>-0.046819</td>\n",
       "    </tr>\n",
       "    <tr>\n",
       "      <th>Gender_male</th>\n",
       "      <td>0.012491</td>\n",
       "      <td>1.000000</td>\n",
       "      <td>-0.023413</td>\n",
       "      <td>0.027584</td>\n",
       "      <td>0.019549</td>\n",
       "      <td>-0.038600</td>\n",
       "      <td>0.016468</td>\n",
       "      <td>0.033171</td>\n",
       "      <td>-0.016763</td>\n",
       "      <td>0.003047</td>\n",
       "      <td>-0.003155</td>\n",
       "      <td>-0.000132</td>\n",
       "      <td>0.014705</td>\n",
       "      <td>-0.011145</td>\n",
       "      <td>-0.122945</td>\n",
       "    </tr>\n",
       "    <tr>\n",
       "      <th>Age</th>\n",
       "      <td>-0.017975</td>\n",
       "      <td>-0.023413</td>\n",
       "      <td>1.000000</td>\n",
       "      <td>-0.017231</td>\n",
       "      <td>0.032150</td>\n",
       "      <td>-0.022886</td>\n",
       "      <td>-0.013844</td>\n",
       "      <td>0.012590</td>\n",
       "      <td>-0.017317</td>\n",
       "      <td>-0.053421</td>\n",
       "      <td>0.059999</td>\n",
       "      <td>-0.002909</td>\n",
       "      <td>-0.011353</td>\n",
       "      <td>-0.015790</td>\n",
       "      <td>0.363234</td>\n",
       "    </tr>\n",
       "    <tr>\n",
       "      <th>Tenure</th>\n",
       "      <td>0.008404</td>\n",
       "      <td>0.027584</td>\n",
       "      <td>-0.017231</td>\n",
       "      <td>1.000000</td>\n",
       "      <td>0.014831</td>\n",
       "      <td>0.018792</td>\n",
       "      <td>0.008416</td>\n",
       "      <td>-0.030740</td>\n",
       "      <td>0.009940</td>\n",
       "      <td>-0.000659</td>\n",
       "      <td>0.018623</td>\n",
       "      <td>-0.019998</td>\n",
       "      <td>0.006231</td>\n",
       "      <td>0.029040</td>\n",
       "      <td>-0.004927</td>\n",
       "    </tr>\n",
       "    <tr>\n",
       "      <th>Balance</th>\n",
       "      <td>0.008494</td>\n",
       "      <td>0.019549</td>\n",
       "      <td>0.032150</td>\n",
       "      <td>0.014831</td>\n",
       "      <td>1.000000</td>\n",
       "      <td>-0.186626</td>\n",
       "      <td>-0.015259</td>\n",
       "      <td>0.001023</td>\n",
       "      <td>0.008558</td>\n",
       "      <td>-0.263843</td>\n",
       "      <td>0.413333</td>\n",
       "      <td>-0.144976</td>\n",
       "      <td>0.024762</td>\n",
       "      <td>0.012935</td>\n",
       "      <td>0.139793</td>\n",
       "    </tr>\n",
       "    <tr>\n",
       "      <th>NumOfProducts</th>\n",
       "      <td>0.001733</td>\n",
       "      <td>-0.038600</td>\n",
       "      <td>-0.022886</td>\n",
       "      <td>0.018792</td>\n",
       "      <td>-0.186626</td>\n",
       "      <td>1.000000</td>\n",
       "      <td>-0.014342</td>\n",
       "      <td>0.044864</td>\n",
       "      <td>0.031395</td>\n",
       "      <td>0.015704</td>\n",
       "      <td>-0.033223</td>\n",
       "      <td>0.018253</td>\n",
       "      <td>-0.000818</td>\n",
       "      <td>0.005481</td>\n",
       "      <td>-0.048771</td>\n",
       "    </tr>\n",
       "    <tr>\n",
       "      <th>HasCrCard</th>\n",
       "      <td>-0.004339</td>\n",
       "      <td>0.016468</td>\n",
       "      <td>-0.013844</td>\n",
       "      <td>0.008416</td>\n",
       "      <td>-0.015259</td>\n",
       "      <td>-0.014342</td>\n",
       "      <td>1.000000</td>\n",
       "      <td>-0.026895</td>\n",
       "      <td>-0.022245</td>\n",
       "      <td>0.016895</td>\n",
       "      <td>0.019559</td>\n",
       "      <td>-0.042095</td>\n",
       "      <td>-0.019289</td>\n",
       "      <td>0.004238</td>\n",
       "      <td>-0.012533</td>\n",
       "    </tr>\n",
       "    <tr>\n",
       "      <th>IsActiveMember</th>\n",
       "      <td>0.023523</td>\n",
       "      <td>0.033171</td>\n",
       "      <td>0.012590</td>\n",
       "      <td>-0.030740</td>\n",
       "      <td>0.001023</td>\n",
       "      <td>0.044864</td>\n",
       "      <td>-0.026895</td>\n",
       "      <td>1.000000</td>\n",
       "      <td>-0.023664</td>\n",
       "      <td>0.026459</td>\n",
       "      <td>-0.010875</td>\n",
       "      <td>-0.019593</td>\n",
       "      <td>-0.011528</td>\n",
       "      <td>-0.020673</td>\n",
       "      <td>-0.191917</td>\n",
       "    </tr>\n",
       "    <tr>\n",
       "      <th>EstimatedSalary</th>\n",
       "      <td>-0.041584</td>\n",
       "      <td>-0.016763</td>\n",
       "      <td>-0.017317</td>\n",
       "      <td>0.009940</td>\n",
       "      <td>0.008558</td>\n",
       "      <td>0.031395</td>\n",
       "      <td>-0.022245</td>\n",
       "      <td>-0.023664</td>\n",
       "      <td>1.000000</td>\n",
       "      <td>-0.002300</td>\n",
       "      <td>-0.011844</td>\n",
       "      <td>0.015979</td>\n",
       "      <td>0.021592</td>\n",
       "      <td>0.028279</td>\n",
       "      <td>0.015366</td>\n",
       "    </tr>\n",
       "    <tr>\n",
       "      <th>Geography_France</th>\n",
       "      <td>-0.001705</td>\n",
       "      <td>0.003047</td>\n",
       "      <td>-0.053421</td>\n",
       "      <td>-0.000659</td>\n",
       "      <td>-0.263843</td>\n",
       "      <td>0.015704</td>\n",
       "      <td>0.016895</td>\n",
       "      <td>0.026459</td>\n",
       "      <td>-0.002300</td>\n",
       "      <td>1.000000</td>\n",
       "      <td>-0.629079</td>\n",
       "      <td>-0.497043</td>\n",
       "      <td>-0.026501</td>\n",
       "      <td>-0.029882</td>\n",
       "      <td>-0.132148</td>\n",
       "    </tr>\n",
       "    <tr>\n",
       "      <th>Geography_Germany</th>\n",
       "      <td>-0.008672</td>\n",
       "      <td>-0.003155</td>\n",
       "      <td>0.059999</td>\n",
       "      <td>0.018623</td>\n",
       "      <td>0.413333</td>\n",
       "      <td>-0.033223</td>\n",
       "      <td>0.019559</td>\n",
       "      <td>-0.010875</td>\n",
       "      <td>-0.011844</td>\n",
       "      <td>-0.629079</td>\n",
       "      <td>1.000000</td>\n",
       "      <td>-0.361840</td>\n",
       "      <td>0.024477</td>\n",
       "      <td>0.026231</td>\n",
       "      <td>0.184151</td>\n",
       "    </tr>\n",
       "    <tr>\n",
       "      <th>Geography_Spain</th>\n",
       "      <td>0.011725</td>\n",
       "      <td>-0.000132</td>\n",
       "      <td>-0.002909</td>\n",
       "      <td>-0.019998</td>\n",
       "      <td>-0.144976</td>\n",
       "      <td>0.018253</td>\n",
       "      <td>-0.042095</td>\n",
       "      <td>-0.019593</td>\n",
       "      <td>0.015979</td>\n",
       "      <td>-0.497043</td>\n",
       "      <td>-0.361840</td>\n",
       "      <td>1.000000</td>\n",
       "      <td>0.004458</td>\n",
       "      <td>0.006556</td>\n",
       "      <td>-0.047082</td>\n",
       "    </tr>\n",
       "    <tr>\n",
       "      <th>Surname_freq</th>\n",
       "      <td>-0.005810</td>\n",
       "      <td>0.014705</td>\n",
       "      <td>-0.011353</td>\n",
       "      <td>0.006231</td>\n",
       "      <td>0.024762</td>\n",
       "      <td>-0.000818</td>\n",
       "      <td>-0.019289</td>\n",
       "      <td>-0.011528</td>\n",
       "      <td>0.021592</td>\n",
       "      <td>-0.026501</td>\n",
       "      <td>0.024477</td>\n",
       "      <td>0.004458</td>\n",
       "      <td>1.000000</td>\n",
       "      <td>0.483128</td>\n",
       "      <td>0.006672</td>\n",
       "    </tr>\n",
       "    <tr>\n",
       "      <th>Has_parent</th>\n",
       "      <td>-0.024392</td>\n",
       "      <td>-0.011145</td>\n",
       "      <td>-0.015790</td>\n",
       "      <td>0.029040</td>\n",
       "      <td>0.012935</td>\n",
       "      <td>0.005481</td>\n",
       "      <td>0.004238</td>\n",
       "      <td>-0.020673</td>\n",
       "      <td>0.028279</td>\n",
       "      <td>-0.029882</td>\n",
       "      <td>0.026231</td>\n",
       "      <td>0.006556</td>\n",
       "      <td>0.483128</td>\n",
       "      <td>1.000000</td>\n",
       "      <td>0.001965</td>\n",
       "    </tr>\n",
       "    <tr>\n",
       "      <th>Exited</th>\n",
       "      <td>-0.046819</td>\n",
       "      <td>-0.122945</td>\n",
       "      <td>0.363234</td>\n",
       "      <td>-0.004927</td>\n",
       "      <td>0.139793</td>\n",
       "      <td>-0.048771</td>\n",
       "      <td>-0.012533</td>\n",
       "      <td>-0.191917</td>\n",
       "      <td>0.015366</td>\n",
       "      <td>-0.132148</td>\n",
       "      <td>0.184151</td>\n",
       "      <td>-0.047082</td>\n",
       "      <td>0.006672</td>\n",
       "      <td>0.001965</td>\n",
       "      <td>1.000000</td>\n",
       "    </tr>\n",
       "  </tbody>\n",
       "</table>\n",
       "</div>"
      ],
      "text/plain": [
       "                   CreditScore  Gender_male       Age    Tenure   Balance  \\\n",
       "CreditScore           1.000000     0.012491 -0.017975  0.008404  0.008494   \n",
       "Gender_male           0.012491     1.000000 -0.023413  0.027584  0.019549   \n",
       "Age                  -0.017975    -0.023413  1.000000 -0.017231  0.032150   \n",
       "Tenure                0.008404     0.027584 -0.017231  1.000000  0.014831   \n",
       "Balance               0.008494     0.019549  0.032150  0.014831  1.000000   \n",
       "NumOfProducts         0.001733    -0.038600 -0.022886  0.018792 -0.186626   \n",
       "HasCrCard            -0.004339     0.016468 -0.013844  0.008416 -0.015259   \n",
       "IsActiveMember        0.023523     0.033171  0.012590 -0.030740  0.001023   \n",
       "EstimatedSalary      -0.041584    -0.016763 -0.017317  0.009940  0.008558   \n",
       "Geography_France     -0.001705     0.003047 -0.053421 -0.000659 -0.263843   \n",
       "Geography_Germany    -0.008672    -0.003155  0.059999  0.018623  0.413333   \n",
       "Geography_Spain       0.011725    -0.000132 -0.002909 -0.019998 -0.144976   \n",
       "Surname_freq         -0.005810     0.014705 -0.011353  0.006231  0.024762   \n",
       "Has_parent           -0.024392    -0.011145 -0.015790  0.029040  0.012935   \n",
       "Exited               -0.046819    -0.122945  0.363234 -0.004927  0.139793   \n",
       "\n",
       "                   NumOfProducts  HasCrCard  IsActiveMember  EstimatedSalary  \\\n",
       "CreditScore             0.001733  -0.004339        0.023523        -0.041584   \n",
       "Gender_male            -0.038600   0.016468        0.033171        -0.016763   \n",
       "Age                    -0.022886  -0.013844        0.012590        -0.017317   \n",
       "Tenure                  0.018792   0.008416       -0.030740         0.009940   \n",
       "Balance                -0.186626  -0.015259        0.001023         0.008558   \n",
       "NumOfProducts           1.000000  -0.014342        0.044864         0.031395   \n",
       "HasCrCard              -0.014342   1.000000       -0.026895        -0.022245   \n",
       "IsActiveMember          0.044864  -0.026895        1.000000        -0.023664   \n",
       "EstimatedSalary         0.031395  -0.022245       -0.023664         1.000000   \n",
       "Geography_France        0.015704   0.016895        0.026459        -0.002300   \n",
       "Geography_Germany      -0.033223   0.019559       -0.010875        -0.011844   \n",
       "Geography_Spain         0.018253  -0.042095       -0.019593         0.015979   \n",
       "Surname_freq           -0.000818  -0.019289       -0.011528         0.021592   \n",
       "Has_parent              0.005481   0.004238       -0.020673         0.028279   \n",
       "Exited                 -0.048771  -0.012533       -0.191917         0.015366   \n",
       "\n",
       "                   Geography_France  Geography_Germany  Geography_Spain  \\\n",
       "CreditScore               -0.001705          -0.008672         0.011725   \n",
       "Gender_male                0.003047          -0.003155        -0.000132   \n",
       "Age                       -0.053421           0.059999        -0.002909   \n",
       "Tenure                    -0.000659           0.018623        -0.019998   \n",
       "Balance                   -0.263843           0.413333        -0.144976   \n",
       "NumOfProducts              0.015704          -0.033223         0.018253   \n",
       "HasCrCard                  0.016895           0.019559        -0.042095   \n",
       "IsActiveMember             0.026459          -0.010875        -0.019593   \n",
       "EstimatedSalary           -0.002300          -0.011844         0.015979   \n",
       "Geography_France           1.000000          -0.629079        -0.497043   \n",
       "Geography_Germany         -0.629079           1.000000        -0.361840   \n",
       "Geography_Spain           -0.497043          -0.361840         1.000000   \n",
       "Surname_freq              -0.026501           0.024477         0.004458   \n",
       "Has_parent                -0.029882           0.026231         0.006556   \n",
       "Exited                    -0.132148           0.184151        -0.047082   \n",
       "\n",
       "                   Surname_freq  Has_parent    Exited  \n",
       "CreditScore           -0.005810   -0.024392 -0.046819  \n",
       "Gender_male            0.014705   -0.011145 -0.122945  \n",
       "Age                   -0.011353   -0.015790  0.363234  \n",
       "Tenure                 0.006231    0.029040 -0.004927  \n",
       "Balance                0.024762    0.012935  0.139793  \n",
       "NumOfProducts         -0.000818    0.005481 -0.048771  \n",
       "HasCrCard             -0.019289    0.004238 -0.012533  \n",
       "IsActiveMember        -0.011528   -0.020673 -0.191917  \n",
       "EstimatedSalary        0.021592    0.028279  0.015366  \n",
       "Geography_France      -0.026501   -0.029882 -0.132148  \n",
       "Geography_Germany      0.024477    0.026231  0.184151  \n",
       "Geography_Spain        0.004458    0.006556 -0.047082  \n",
       "Surname_freq           1.000000    0.483128  0.006672  \n",
       "Has_parent             0.483128    1.000000  0.001965  \n",
       "Exited                 0.006672    0.001965  1.000000  "
      ]
     },
     "execution_count": 18,
     "metadata": {},
     "output_type": "execute_result"
    }
   ],
   "source": [
    "data.corr()"
   ]
  },
  {
   "cell_type": "code",
   "execution_count": 19,
   "id": "21c1f6fb",
   "metadata": {},
   "outputs": [
    {
     "data": {
      "text/html": [
       "<div>\n",
       "<style scoped>\n",
       "    .dataframe tbody tr th:only-of-type {\n",
       "        vertical-align: middle;\n",
       "    }\n",
       "\n",
       "    .dataframe tbody tr th {\n",
       "        vertical-align: top;\n",
       "    }\n",
       "\n",
       "    .dataframe thead th {\n",
       "        text-align: right;\n",
       "    }\n",
       "</style>\n",
       "<table border=\"1\" class=\"dataframe\">\n",
       "  <thead>\n",
       "    <tr style=\"text-align: right;\">\n",
       "      <th></th>\n",
       "      <th>Exited</th>\n",
       "    </tr>\n",
       "  </thead>\n",
       "  <tbody>\n",
       "    <tr>\n",
       "      <th>IsActiveMember</th>\n",
       "      <td>-0.191917</td>\n",
       "    </tr>\n",
       "    <tr>\n",
       "      <th>Geography_France</th>\n",
       "      <td>-0.132148</td>\n",
       "    </tr>\n",
       "    <tr>\n",
       "      <th>Gender_male</th>\n",
       "      <td>-0.122945</td>\n",
       "    </tr>\n",
       "    <tr>\n",
       "      <th>NumOfProducts</th>\n",
       "      <td>-0.048771</td>\n",
       "    </tr>\n",
       "    <tr>\n",
       "      <th>Geography_Spain</th>\n",
       "      <td>-0.047082</td>\n",
       "    </tr>\n",
       "    <tr>\n",
       "      <th>CreditScore</th>\n",
       "      <td>-0.046819</td>\n",
       "    </tr>\n",
       "    <tr>\n",
       "      <th>HasCrCard</th>\n",
       "      <td>-0.012533</td>\n",
       "    </tr>\n",
       "    <tr>\n",
       "      <th>Tenure</th>\n",
       "      <td>-0.004927</td>\n",
       "    </tr>\n",
       "    <tr>\n",
       "      <th>Has_parent</th>\n",
       "      <td>0.001965</td>\n",
       "    </tr>\n",
       "    <tr>\n",
       "      <th>Surname_freq</th>\n",
       "      <td>0.006672</td>\n",
       "    </tr>\n",
       "    <tr>\n",
       "      <th>EstimatedSalary</th>\n",
       "      <td>0.015366</td>\n",
       "    </tr>\n",
       "    <tr>\n",
       "      <th>Balance</th>\n",
       "      <td>0.139793</td>\n",
       "    </tr>\n",
       "    <tr>\n",
       "      <th>Geography_Germany</th>\n",
       "      <td>0.184151</td>\n",
       "    </tr>\n",
       "    <tr>\n",
       "      <th>Age</th>\n",
       "      <td>0.363234</td>\n",
       "    </tr>\n",
       "    <tr>\n",
       "      <th>Exited</th>\n",
       "      <td>1.000000</td>\n",
       "    </tr>\n",
       "  </tbody>\n",
       "</table>\n",
       "</div>"
      ],
      "text/plain": [
       "                     Exited\n",
       "IsActiveMember    -0.191917\n",
       "Geography_France  -0.132148\n",
       "Gender_male       -0.122945\n",
       "NumOfProducts     -0.048771\n",
       "Geography_Spain   -0.047082\n",
       "CreditScore       -0.046819\n",
       "HasCrCard         -0.012533\n",
       "Tenure            -0.004927\n",
       "Has_parent         0.001965\n",
       "Surname_freq       0.006672\n",
       "EstimatedSalary    0.015366\n",
       "Balance            0.139793\n",
       "Geography_Germany  0.184151\n",
       "Age                0.363234\n",
       "Exited             1.000000"
      ]
     },
     "execution_count": 19,
     "metadata": {},
     "output_type": "execute_result"
    }
   ],
   "source": [
    "data.corr()['Exited'].sort_values().to_frame()"
   ]
  },
  {
   "cell_type": "markdown",
   "id": "d79e0cbf",
   "metadata": {},
   "source": [
    "Comentar sobre as principais correlações (usar gráficos aqui pode ser uma boa abordagem)"
   ]
  },
  {
   "cell_type": "markdown",
   "id": "71583e44",
   "metadata": {},
   "source": [
    "### Data split"
   ]
  },
  {
   "cell_type": "code",
   "execution_count": 20,
   "id": "387b03cb",
   "metadata": {
    "scrolled": true
   },
   "outputs": [],
   "source": [
    "X, y = data.drop('Exited', axis=1), data['Exited']"
   ]
  },
  {
   "cell_type": "markdown",
   "id": "de599764",
   "metadata": {},
   "source": [
    "### Modeling"
   ]
  },
  {
   "cell_type": "code",
   "execution_count": 21,
   "id": "42ac0276",
   "metadata": {},
   "outputs": [],
   "source": [
    "kf = KFold(n_splits=5)\n",
    "\n",
    "rps = []\n",
    "rns = []\n",
    "cms = []\n",
    "rocs = []\n",
    "\n",
    "for train_index, test_index in kf.split(X):\n",
    "    X_train, y_train = X.iloc[train_index], y.iloc[train_index]\n",
    "    X_test, y_test = X.iloc[test_index], y.iloc[test_index]\n",
    "    \n",
    "    model = RandomForestClassifier(random_state=7)\n",
    "    model.fit(X_train, y_train)\n",
    "    \n",
    "    y_hat = model.predict(X_test)\n",
    "\n",
    "    cm = confusion_matrix(y_true=y_test, y_pred=y_hat)\n",
    "    cms.append(cm)\n",
    "    \n",
    "    right_positive_rate = cm[1][1] / (cm[1][0] + cm[1][1])\n",
    "    rps.append(right_positive_rate)\n",
    "    \n",
    "    right_negative_rate = cm[0][0] / (cm[0][0] + cm[0][1])\n",
    "    rns.append(right_negative_rate)\n",
    "    \n",
    "    roc = roc_auc_score(y_true=y_test, y_score=model.predict_proba(X_test)[:, 1]) \n",
    "    rocs.append(roc)\n",
    "    \n",
    "rps = np.array(rps)\n",
    "rns = np.array(rns)\n",
    "rocs = np.array(rocs)"
   ]
  },
  {
   "cell_type": "markdown",
   "id": "e3875d69",
   "metadata": {},
   "source": [
    "Comentar sobre o procedimento utilzado, sobre o KFold (número de dobras)."
   ]
  },
  {
   "cell_type": "markdown",
   "id": "78dd4ed8",
   "metadata": {},
   "source": [
    "### Evaluation"
   ]
  },
  {
   "cell_type": "code",
   "execution_count": 22,
   "id": "90760103",
   "metadata": {},
   "outputs": [
    {
     "name": "stdout",
     "output_type": "stream",
     "text": [
      "Taxa de acerto para casos positivos: 75.66% +- 1.95%\n",
      "Taxa de acerto para casos negativos: 78.83% +- 2.27%\n",
      "\n",
      "ROC AUC Score: 0.8506 +- 0.0111\n"
     ]
    }
   ],
   "source": [
    "print('Taxa de acerto para casos positivos: %.2f%% +- %.2f%%' % (rps.mean()*100, rps.std()*100))\n",
    "print('Taxa de acerto para casos negativos: %.2f%% +- %.2f%%' % (rns.mean()*100, rns.std()*100))\n",
    "print('\\nROC AUC Score: %.4f +- %.4f' % (rocs.mean(), rocs.std()))"
   ]
  },
  {
   "cell_type": "markdown",
   "id": "6f5440bd",
   "metadata": {},
   "source": [
    "Comentar resultados aqui"
   ]
  },
  {
   "cell_type": "code",
   "execution_count": 23,
   "id": "5f76a34f",
   "metadata": {},
   "outputs": [
    {
     "data": {
      "text/html": [
       "<style>#sk-container-id-1 {color: black;background-color: white;}#sk-container-id-1 pre{padding: 0;}#sk-container-id-1 div.sk-toggleable {background-color: white;}#sk-container-id-1 label.sk-toggleable__label {cursor: pointer;display: block;width: 100%;margin-bottom: 0;padding: 0.3em;box-sizing: border-box;text-align: center;}#sk-container-id-1 label.sk-toggleable__label-arrow:before {content: \"▸\";float: left;margin-right: 0.25em;color: #696969;}#sk-container-id-1 label.sk-toggleable__label-arrow:hover:before {color: black;}#sk-container-id-1 div.sk-estimator:hover label.sk-toggleable__label-arrow:before {color: black;}#sk-container-id-1 div.sk-toggleable__content {max-height: 0;max-width: 0;overflow: hidden;text-align: left;background-color: #f0f8ff;}#sk-container-id-1 div.sk-toggleable__content pre {margin: 0.2em;color: black;border-radius: 0.25em;background-color: #f0f8ff;}#sk-container-id-1 input.sk-toggleable__control:checked~div.sk-toggleable__content {max-height: 200px;max-width: 100%;overflow: auto;}#sk-container-id-1 input.sk-toggleable__control:checked~label.sk-toggleable__label-arrow:before {content: \"▾\";}#sk-container-id-1 div.sk-estimator input.sk-toggleable__control:checked~label.sk-toggleable__label {background-color: #d4ebff;}#sk-container-id-1 div.sk-label input.sk-toggleable__control:checked~label.sk-toggleable__label {background-color: #d4ebff;}#sk-container-id-1 input.sk-hidden--visually {border: 0;clip: rect(1px 1px 1px 1px);clip: rect(1px, 1px, 1px, 1px);height: 1px;margin: -1px;overflow: hidden;padding: 0;position: absolute;width: 1px;}#sk-container-id-1 div.sk-estimator {font-family: monospace;background-color: #f0f8ff;border: 1px dotted black;border-radius: 0.25em;box-sizing: border-box;margin-bottom: 0.5em;}#sk-container-id-1 div.sk-estimator:hover {background-color: #d4ebff;}#sk-container-id-1 div.sk-parallel-item::after {content: \"\";width: 100%;border-bottom: 1px solid gray;flex-grow: 1;}#sk-container-id-1 div.sk-label:hover label.sk-toggleable__label {background-color: #d4ebff;}#sk-container-id-1 div.sk-serial::before {content: \"\";position: absolute;border-left: 1px solid gray;box-sizing: border-box;top: 0;bottom: 0;left: 50%;z-index: 0;}#sk-container-id-1 div.sk-serial {display: flex;flex-direction: column;align-items: center;background-color: white;padding-right: 0.2em;padding-left: 0.2em;position: relative;}#sk-container-id-1 div.sk-item {position: relative;z-index: 1;}#sk-container-id-1 div.sk-parallel {display: flex;align-items: stretch;justify-content: center;background-color: white;position: relative;}#sk-container-id-1 div.sk-item::before, #sk-container-id-1 div.sk-parallel-item::before {content: \"\";position: absolute;border-left: 1px solid gray;box-sizing: border-box;top: 0;bottom: 0;left: 50%;z-index: -1;}#sk-container-id-1 div.sk-parallel-item {display: flex;flex-direction: column;z-index: 1;position: relative;background-color: white;}#sk-container-id-1 div.sk-parallel-item:first-child::after {align-self: flex-end;width: 50%;}#sk-container-id-1 div.sk-parallel-item:last-child::after {align-self: flex-start;width: 50%;}#sk-container-id-1 div.sk-parallel-item:only-child::after {width: 0;}#sk-container-id-1 div.sk-dashed-wrapped {border: 1px dashed gray;margin: 0 0.4em 0.5em 0.4em;box-sizing: border-box;padding-bottom: 0.4em;background-color: white;}#sk-container-id-1 div.sk-label label {font-family: monospace;font-weight: bold;display: inline-block;line-height: 1.2em;}#sk-container-id-1 div.sk-label-container {text-align: center;}#sk-container-id-1 div.sk-container {/* jupyter's `normalize.less` sets `[hidden] { display: none; }` but bootstrap.min.css set `[hidden] { display: none !important; }` so we also need the `!important` here to be able to override the default hidden behavior on the sphinx rendered scikit-learn.org. See: https://github.com/scikit-learn/scikit-learn/issues/21755 */display: inline-block !important;position: relative;}#sk-container-id-1 div.sk-text-repr-fallback {display: none;}</style><div id=\"sk-container-id-1\" class=\"sk-top-container\"><div class=\"sk-text-repr-fallback\"><pre>RandomForestClassifier(random_state=7)</pre><b>In a Jupyter environment, please rerun this cell to show the HTML representation or trust the notebook. <br />On GitHub, the HTML representation is unable to render, please try loading this page with nbviewer.org.</b></div><div class=\"sk-container\" hidden><div class=\"sk-item\"><div class=\"sk-estimator sk-toggleable\"><input class=\"sk-toggleable__control sk-hidden--visually\" id=\"sk-estimator-id-1\" type=\"checkbox\" checked><label for=\"sk-estimator-id-1\" class=\"sk-toggleable__label sk-toggleable__label-arrow\">RandomForestClassifier</label><div class=\"sk-toggleable__content\"><pre>RandomForestClassifier(random_state=7)</pre></div></div></div></div></div>"
      ],
      "text/plain": [
       "RandomForestClassifier(random_state=7)"
      ]
     },
     "execution_count": 23,
     "metadata": {},
     "output_type": "execute_result"
    }
   ],
   "source": [
    "model.fit(X, y)"
   ]
  },
  {
   "cell_type": "markdown",
   "id": "219d3002",
   "metadata": {},
   "source": [
    "## Deploy"
   ]
  },
  {
   "cell_type": "markdown",
   "id": "2cdbcc2b",
   "metadata": {},
   "source": [
    "Comentar sobre os processos de deploy que serão realizados."
   ]
  },
  {
   "cell_type": "markdown",
   "id": "cbbe5903",
   "metadata": {},
   "source": [
    "### Saving results"
   ]
  },
  {
   "cell_type": "markdown",
   "id": "51962d4f",
   "metadata": {},
   "source": [
    "#### Scaler save"
   ]
  },
  {
   "cell_type": "code",
   "execution_count": 24,
   "id": "c325bc22",
   "metadata": {},
   "outputs": [],
   "source": [
    "scaler_file = open('Scalers/min_max_quantitatives.pkl', 'wb')\n",
    "pickle.dump(scaler, scaler_file)\n",
    "scaler_file.close()"
   ]
  },
  {
   "cell_type": "markdown",
   "id": "5b6680b2",
   "metadata": {},
   "source": [
    "#### Model save"
   ]
  },
  {
   "cell_type": "code",
   "execution_count": 25,
   "id": "769450ec",
   "metadata": {},
   "outputs": [],
   "source": [
    "model_file = open('Scalers/min_max_quantitatives.pkl', 'wb')\n",
    "pickle.dump(model, model_file)\n",
    "model_file.close()"
   ]
  }
 ],
 "metadata": {
  "kernelspec": {
   "display_name": "Python 3 (ipykernel)",
   "language": "python",
   "name": "python3"
  },
  "language_info": {
   "codemirror_mode": {
    "name": "ipython",
    "version": 3
   },
   "file_extension": ".py",
   "mimetype": "text/x-python",
   "name": "python",
   "nbconvert_exporter": "python",
   "pygments_lexer": "ipython3",
   "version": "3.9.12"
  }
 },
 "nbformat": 4,
 "nbformat_minor": 5
}
