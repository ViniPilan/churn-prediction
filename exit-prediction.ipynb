{
 "cells": [
  {
   "cell_type": "markdown",
   "id": "e0b922d6",
   "metadata": {},
   "source": [
    "# Predição de saída de clientes\n",
    "\n",
    "## O problema abordado\n",
    "\n",
    "Prever a rotatividade da empresa é algo fundamental para se alcançar melhores resultados. Ter o conhecimento de que determinado cliente pode estar prester a sair da empresa permite que a mesma busque reconquistá-lo, de modo a mantê-lo presente consumindo seus produtos e serviços.\n",
    "\n",
    "A perda de um cliente para a concorrência pode ser um grande prejuízo individual, já que a empresa perde um comprador, mas também pode acarretar prejuízos coletivos como efeito manada de evasão (clientes saem porque outros saíram) por exemplo. Além do mais, um cliente sempre será uma forma considerável de propaganda e isso deve ser sempre levado em consideração: resumidamente, cliente contente pode fazer propaganda positiva da empresa para outros e clientes descontentes podem fazer propaganda negativa.\n",
    "\n",
    "Quanto mais se entende esse cenário, entendende-se também a importância de prever a saída de clientes. Dessa forma, enxergar que um cliente está prestes a sair (com uma estimativa disso em termos probabilísticos também) é de grande relevância e isso pode ser feito com a Ciência de Dados. "
   ]
  },
  {
   "cell_type": "markdown",
   "id": "7fceeaf9",
   "metadata": {},
   "source": [
    "![main](Images/main_resized.jpg)"
   ]
  },
  {
   "cell_type": "markdown",
   "id": "979e903b",
   "metadata": {},
   "source": [
    "### Definição da baseline\n",
    "\n",
    "Supondo que se tenha os dados registrados sobre clientes e a relação deles com os produtos/serviços da empresa, pode-se visualizar o quanto o cliente gera de receita para a empresa em um determinado período de tempo. \n",
    "\n",
    "Se um cliente gera Y reais, em média, de receita mensal para a empresa, em um ano teria-se Y x 12 reais. No cenário em que em um ano a empresa perde 10% de seus clientes já existentes e o número total é de 3000 clientes, então **todo ano perde-se cerca de 300 x Y x 12 reais, que poderiam ser recebidos pela empresa**. \n",
    "\n",
    "Portanto, além de investir em novos clientes, deve-se também investir em manter os que já faziam parte da empresa."
   ]
  },
  {
   "cell_type": "markdown",
   "id": "8cb22363",
   "metadata": {},
   "source": [
    "### A solução proposta\n",
    "\n",
    "Desenvolver um modelo preditivo capaz de estimar se determinado cliente vai ou não sair da empresa para que se tenha esse conhecimento e para que se possa tomar medidas que o mantenham na empresa.\n",
    "\n",
    "A ideia é desenvolver um sistema que periodicamente calcule tal probabilidade e informe isso, informando também as principais características desses clientes."
   ]
  },
  {
   "cell_type": "markdown",
   "id": "64301ddf",
   "metadata": {},
   "source": [
    "## Dados usados no desenvolvimento da solução\n",
    "\n",
    "### Coleta dos dados\n",
    "\n",
    "Os dados para desenvolver a solução proposta foram extraídos [deste](https://www.kaggle.com/datasets/shubh0799/churn-modelling) dataset do Kaggle. As características presentes são:\n",
    "\n",
    "1. **RowNumber:** The number of the row\n",
    "2. **CustomerId:** The unique customer id\n",
    "3. **Surname:** Customers Surname\n",
    "4. **CreditScore:** Their credit score\n",
    "5. **Geography:** Which Country they belong to\n",
    "6. **Gender:** Their Gender\n",
    "7. **Age:** Age\n",
    "8. **Tenure:** The time of bond with company\n",
    "9. **Balance:** The amount left with them\n",
    "10. **NumOfProducts:** The products they own.\n",
    "11. **HasCrCard:** Do they have a credit card or not\n",
    "12. **IsActiveMember:** How active member they are\n",
    "13. **EstimatedSalary:** Their estimated salary\n",
    "14. **Exited:** Whether they stay in the or leave"
   ]
  },
  {
   "cell_type": "markdown",
   "id": "3650ccfd",
   "metadata": {},
   "source": [
    "### Preparação do conjunto de dados\n",
    "\n",
    "Será feito todo o pré processamento necessário para melhorar o desempenho da solução que será criada. Dessa forma, o pré processamento inclui:\n",
    "1. Correção de formato: modelo não aceita variáveis no formato textual\n",
    "2. Correção de valores nulos: modelo não aceita dados nulos\n",
    "3. Identificação e remoção de outliers: anomalias atrapalham no desempenho do modelo e devem ser tratadas\n",
    "4. Feature Engineering: criação de novas varíaveis de acordo com o necessário\n",
    "5. Identificação de normalidade: processo de verificação de curvas normais\n",
    "6. Normalização e padronização: de acordo com o conhecimento de cada feature, será realizado o ajuste correto"
   ]
  },
  {
   "cell_type": "markdown",
   "id": "9171717d",
   "metadata": {},
   "source": [
    "### Processamento - A análise exploratória dos dados\n",
    "\n",
    "Será realizado todo o processamento dos dados, verificação de correlações, entendimento dos perfis de análise (clientes que ficam e clientes que saem) e criação do modelo."
   ]
  },
  {
   "cell_type": "markdown",
   "id": "10708fd4",
   "metadata": {},
   "source": [
    "## Sobre a solução desenvolvida\n",
    "\n",
    "### Análise dos resultados\n",
    "Modelo é viável? Por que?\n",
    "\n",
    "\n",
    "### Conversão da solução - lift esperado\n",
    "De acordo com a solução desenvolvida, quais serão as melhorias?\n",
    "\n",
    "## Publicação da solução\n",
    "Deploy em nuvem"
   ]
  },
  {
   "cell_type": "code",
   "execution_count": null,
   "id": "09703298",
   "metadata": {},
   "outputs": [],
   "source": []
  }
 ],
 "metadata": {
  "kernelspec": {
   "display_name": "Python 3 (ipykernel)",
   "language": "python",
   "name": "python3"
  },
  "language_info": {
   "codemirror_mode": {
    "name": "ipython",
    "version": 3
   },
   "file_extension": ".py",
   "mimetype": "text/x-python",
   "name": "python",
   "nbconvert_exporter": "python",
   "pygments_lexer": "ipython3",
   "version": "3.10.4"
  }
 },
 "nbformat": 4,
 "nbformat_minor": 5
}
